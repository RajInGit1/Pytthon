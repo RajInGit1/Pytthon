{
 "cells": [
  {
   "cell_type": "code",
   "execution_count": null,
   "id": "20180290-5f04-4846-ac1e-4594fa98b607",
   "metadata": {},
   "outputs": [],
   "source": [
    "#Loop"
   ]
  },
  {
   "cell_type": "code",
   "execution_count": null,
   "id": "4a97b484-763c-4626-9149-6141a6560c4a",
   "metadata": {},
   "outputs": [],
   "source": [
    "#while loop"
   ]
  },
  {
   "cell_type": "code",
   "execution_count": 2,
   "id": "aca6f245-276f-4227-8d81-2ee7ad256d2a",
   "metadata": {},
   "outputs": [
    {
     "name": "stdout",
     "output_type": "stream",
     "text": [
      "1 2 3 4 5 6 7 8 9 10 "
     ]
    }
   ],
   "source": [
    "i=1\n",
    "while i<=10:\n",
    "       print(i,end =\" \")\n",
    "       i+=1"
   ]
  },
  {
   "cell_type": "code",
   "execution_count": 4,
   "id": "f9a8ef8c-c0fa-463e-bedb-120854c03778",
   "metadata": {},
   "outputs": [
    {
     "name": "stdout",
     "output_type": "stream",
     "text": [
      "MysirG\n",
      "MysirG\n",
      "MysirG\n",
      "MysirG\n",
      "MysirG\n"
     ]
    }
   ],
   "source": [
    "i=1\n",
    "while i<=5:\n",
    "       print(\"MysirG\")\n",
    "       i+=1"
   ]
  },
  {
   "cell_type": "code",
   "execution_count": 4,
   "id": "5f4823b8-b627-4b4a-b0fe-3416323fd5ff",
   "metadata": {},
   "outputs": [
    {
     "name": "stdout",
     "output_type": "stream",
     "text": [
      "Enter: Number: 12\n"
     ]
    },
    {
     "name": "stdout",
     "output_type": "stream",
     "text": [
      "Number is not Prime\n"
     ]
    }
   ],
   "source": [
    "n=int(input(\"Enter: Number:\"))\n",
    "0i=1\n",
    "count=0\n",
    "while i<=n:\n",
    "       if n%i==0:\n",
    "          count+=1\n",
    "       i+=1    \n",
    "if count==2:\n",
    "    print(\"Number is Prime\")\n",
    "else: \n",
    "    print(\"Number is not Prime\")\n",
    "           "
   ]
  },
  {
   "cell_type": "code",
   "execution_count": 1,
   "id": "d4b3c37b-76ce-4fde-b344-77855873b5e3",
   "metadata": {},
   "outputs": [],
   "source": [
    "n=int(input(\"Enter Number:\"))\n",
    "i=1\n",
    "print(\"Table of entered number:\")\n",
    "while i<=10:\n",
    "      a=n*i\n",
    "      print(a,end=\" \")\n",
    "      i+=1"
   ]
  },
  {
   "cell_type": "code",
   "execution_count": 3,
   "id": "8129432b-f657-4073-8ad4-a8db3e9eaa5d",
   "metadata": {},
   "outputs": [
    {
     "name": "stdout",
     "output_type": "stream",
     "text": [
      "Enter Number: 10\n"
     ]
    },
    {
     "name": "stdout",
     "output_type": "stream",
     "text": [
      "Addition of n Number:\n",
      "55\n"
     ]
    }
   ],
   "source": [
    "n=int(input(\"Enter Number:\"))\n",
    "i=1\n",
    "sum=0\n",
    "print(\"Addition of n Number:\")\n",
    "while i<=n:\n",
    "       sum=sum+i\n",
    "       i+=1\n",
    "\n",
    "print(sum)"
   ]
  },
  {
   "cell_type": "code",
   "execution_count": null,
   "id": "fe082f4b-9f8f-4bb9-b10f-48560799625c",
   "metadata": {},
   "outputs": [],
   "source": [
    "#for loop"
   ]
  },
  {
   "cell_type": "code",
   "execution_count": 1,
   "id": "0b9a1726-62ee-47df-b8bd-a90d57e38f7f",
   "metadata": {},
   "outputs": [
    {
     "name": "stdout",
     "output_type": "stream",
     "text": [
      "M 77\n",
      "y 121\n",
      "S 83\n",
      "i 105\n",
      "r 114\n",
      "G 71\n"
     ]
    }
   ],
   "source": [
    "s1=\"MySirG\"\n",
    "for a in s1:\n",
    "     print(a,ord(a))"
   ]
  },
  {
   "cell_type": "code",
   "execution_count": 11,
   "id": "8f099a47-97dc-4a01-acb3-0b9b5ec66575",
   "metadata": {},
   "outputs": [
    {
     "name": "stdout",
     "output_type": "stream",
     "text": [
      "Balaji\n",
      "Datta\n",
      "Jadhav\n"
     ]
    }
   ],
   "source": [
    "Names=[\"Balaji\",\"Datta\",\"Jadhav\"]\n",
    "for names in Names:\n",
    " print(names)"
   ]
  },
  {
   "cell_type": "code",
   "execution_count": 15,
   "id": "c5c633c0-e86e-4733-ac98-7bebb0e8212b",
   "metadata": {},
   "outputs": [
    {
     "name": "stdout",
     "output_type": "stream",
     "text": [
      "Enter Number 3\n"
     ]
    },
    {
     "name": "stdout",
     "output_type": "stream",
     "text": [
      "3 6 9 12 15 18 21 24 27 30 "
     ]
    }
   ],
   "source": [
    "a=range(1,11)\n",
    "b=int(input(\"Enter Number\"))\n",
    "for i in a:\n",
    "        i=i*b\n",
    "        print(i,end=\" \")"
   ]
  },
  {
   "cell_type": "code",
   "execution_count": 17,
   "id": "748e70b2-b25a-4178-a682-fc20dc696cd7",
   "metadata": {},
   "outputs": [
    {
     "name": "stdout",
     "output_type": "stream",
     "text": [
      "Enter Number: 6\n"
     ]
    },
    {
     "name": "stdout",
     "output_type": "stream",
     "text": [
      "Factorial of Entered number is:  720\n"
     ]
    }
   ],
   "source": [
    "b=int(input(\"Enter Number:\"))\n",
    "a=range(1,b+1)\n",
    "fact=1\n",
    "for i in a:\n",
    "     fact=fact*i\n",
    "print(\"Factorial of Entered number is: \",fact)"
   ]
  },
  {
   "cell_type": "code",
   "execution_count": null,
   "id": "92f791bb-cdd6-4dab-adc3-2e4ce6467f3b",
   "metadata": {},
   "outputs": [],
   "source": []
  }
 ],
 "metadata": {
  "kernelspec": {
   "display_name": "Python 3 (ipykernel)",
   "language": "python",
   "name": "python3"
  },
  "language_info": {
   "codemirror_mode": {
    "name": "ipython",
    "version": 3
   },
   "file_extension": ".py",
   "mimetype": "text/x-python",
   "name": "python",
   "nbconvert_exporter": "python",
   "pygments_lexer": "ipython3",
   "version": "3.12.3"
  }
 },
 "nbformat": 4,
 "nbformat_minor": 5
}
