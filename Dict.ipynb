{
 "cells": [
  {
   "cell_type": "markdown",
   "id": "05106a76-9243-47f3-951b-3296c6fc85bf",
   "metadata": {},
   "source": [
    "# Dictionary"
   ]
  },
  {
   "cell_type": "code",
   "execution_count": 2,
   "id": "08bb5b1b-2bc1-42c1-9639-0cc1dd214705",
   "metadata": {},
   "outputs": [
    {
     "name": "stdout",
     "output_type": "stream",
     "text": [
      "<class 'dict'>\n",
      "{102: 'Rahul', 105: 'Payal', 106: 'Arjun', 107: 'Prachi'}\n"
     ]
    }
   ],
   "source": [
    "d1={102:\"Rahul\",105:\"Payal\",106:\"Arjun\",107:\"Prachi\"}\n",
    "print(type(d1))\n",
    "print(d1)"
   ]
  },
  {
   "cell_type": "code",
   "execution_count": 3,
   "id": "75d8564e-6974-4b86-98f9-8a29b9065226",
   "metadata": {},
   "outputs": [
    {
     "name": "stdout",
     "output_type": "stream",
     "text": [
      "<class 'dict'>\n"
     ]
    }
   ],
   "source": [
    "d1={}\n",
    "print(type(d1))"
   ]
  },
  {
   "cell_type": "code",
   "execution_count": 5,
   "id": "a9a3663d-451e-48cd-93c5-6051fdce6c84",
   "metadata": {},
   "outputs": [
    {
     "name": "stdout",
     "output_type": "stream",
     "text": [
      "<class 'dict'>\n"
     ]
    }
   ],
   "source": [
    "d1=dict()\n",
    "print(type(d1))"
   ]
  },
  {
   "cell_type": "code",
   "execution_count": 4,
   "id": "1f60d0cb-10ab-4739-a6d2-f5f5bace8ea5",
   "metadata": {},
   "outputs": [
    {
     "name": "stdout",
     "output_type": "stream",
     "text": [
      "{'a': 10, 'b': 20, 'c': 30}\n"
     ]
    }
   ],
   "source": [
    "d1=dict(a=10,b=20,c=30)\n",
    "print(d1)"
   ]
  },
  {
   "cell_type": "code",
   "execution_count": 8,
   "id": "c299cc72-e260-4226-b77d-9b84ea5d8d34",
   "metadata": {},
   "outputs": [
    {
     "ename": "SyntaxError",
     "evalue": "expression cannot contain assignment, perhaps you meant \"==\"? (3220137363.py, line 1)",
     "output_type": "error",
     "traceback": [
      "\u001b[1;36m  Cell \u001b[1;32mIn[8], line 1\u001b[1;36m\u001b[0m\n\u001b[1;33m    d1=dict(102=\"Rahul\",105=\"Payal\")\u001b[0m\n\u001b[1;37m            ^\u001b[0m\n\u001b[1;31mSyntaxError\u001b[0m\u001b[1;31m:\u001b[0m expression cannot contain assignment, perhaps you meant \"==\"?\n"
     ]
    }
   ],
   "source": [
    "d1=dict(102=\"Rahul\",105=\"Payal\")\n",
    "print(d1)"
   ]
  },
  {
   "cell_type": "code",
   "execution_count": 9,
   "id": "3e1d1b2b-4387-4cbc-90a1-cfd57327c4f0",
   "metadata": {},
   "outputs": [
    {
     "name": "stdout",
     "output_type": "stream",
     "text": [
      "{'r': 'Rahul', 'p': 'Payal'}\n"
     ]
    }
   ],
   "source": [
    "d1=dict(r=\"Rahul\",p=\"Payal\")\n",
    "print(d1)"
   ]
  },
  {
   "cell_type": "code",
   "execution_count": 10,
   "id": "16c84eff-a39b-4be0-b53f-692b080b8e8a",
   "metadata": {},
   "outputs": [
    {
     "name": "stdout",
     "output_type": "stream",
     "text": [
      "Arjun\n"
     ]
    }
   ],
   "source": [
    "d1={102:\"Rahul\",105:\"Payal\",106:\"Arjun\",107:\"Prachi\"}\n",
    "print(d1[106])"
   ]
  },
  {
   "cell_type": "code",
   "execution_count": 13,
   "id": "da3e211a-c060-4cbc-96e9-9c02cefeb3d8",
   "metadata": {},
   "outputs": [
    {
     "name": "stdout",
     "output_type": "stream",
     "text": [
      "102\n",
      "105\n",
      "106\n",
      "107\n"
     ]
    }
   ],
   "source": [
    "d1={102:\"Rahul\",105:\"Payal\",106:\"Arjun\",107:\"Prachi\"}\n",
    "for k in d1:\n",
    " print(k)"
   ]
  },
  {
   "cell_type": "code",
   "execution_count": 16,
   "id": "427f6074-b234-49e5-807c-06d9fb14c1fd",
   "metadata": {},
   "outputs": [
    {
     "name": "stdout",
     "output_type": "stream",
     "text": [
      "102 Rahul\n",
      "105 Payal\n",
      "106 Arjun\n",
      "107 Prachi\n"
     ]
    }
   ],
   "source": [
    "d1={102:\"Rahul\",105:\"Payal\",106:\"Arjun\",107:\"Prachi\"}\n",
    "for k in d1:\n",
    "  print(k,d1[k])"
   ]
  },
  {
   "cell_type": "code",
   "execution_count": 17,
   "id": "52cb58f8-1112-4eec-95c9-08ce145c02c6",
   "metadata": {},
   "outputs": [
    {
     "name": "stdout",
     "output_type": "stream",
     "text": [
      "{102: 'Rahul', 105: 'Anushka', 106: 'Arjun', 107: 'Prachi'}\n"
     ]
    }
   ],
   "source": [
    "d1={102:\"Rahul\",105:\"Payal\",106:\"Arjun\",107:\"Prachi\"}\n",
    "d1[105]=\"Anushka\"\n",
    "print(d1)"
   ]
  },
  {
   "cell_type": "code",
   "execution_count": 18,
   "id": "45b67649-58f5-4a80-937c-17d3613a35d4",
   "metadata": {},
   "outputs": [
    {
     "name": "stdout",
     "output_type": "stream",
     "text": [
      "{102: 'Rahul', 105: 'Riyaa', 106: 'Arjun', 107: 'Prachi'}\n"
     ]
    }
   ],
   "source": [
    "d1={102:\"Rahul\",105:\"Payal\",106:\"Arjun\",107:\"Prachi\"}\n",
    "d1[105]=\"Riyaa\"\n",
    "print(d1)"
   ]
  },
  {
   "cell_type": "markdown",
   "id": "7050aaa2-354c-449d-a44f-0baf3a0f40eb",
   "metadata": {},
   "source": [
    "# Methods"
   ]
  },
  {
   "cell_type": "code",
   "execution_count": 20,
   "id": "950d16d0-3baf-4c39-acea-ec239de238b2",
   "metadata": {},
   "outputs": [
    {
     "name": "stdout",
     "output_type": "stream",
     "text": [
      "dict_keys([102, 105, 106, 107])\n"
     ]
    }
   ],
   "source": [
    "d1={102: 'Rahul', 105: 'Riyaa', 106: 'Arjun', 107: 'Prachi'}\n",
    "d=d1.keys()\n",
    "print(d)"
   ]
  },
  {
   "cell_type": "code",
   "execution_count": 22,
   "id": "1d24e46e-2602-40fb-a128-8bb6d19df8f0",
   "metadata": {},
   "outputs": [
    {
     "name": "stdout",
     "output_type": "stream",
     "text": [
      "dict_values(['Rahul', 'Riyaa', 'Arjun', 'Prachi'])\n"
     ]
    }
   ],
   "source": [
    "d1={102: 'Rahul', 105: 'Riyaa', 106: 'Arjun', 107: 'Prachi'}\n",
    "d=d1.values()\n",
    "print(d)"
   ]
  },
  {
   "cell_type": "code",
   "execution_count": 23,
   "id": "ae824ac0-e680-494e-9463-7db1e2c2ff6f",
   "metadata": {},
   "outputs": [
    {
     "name": "stdout",
     "output_type": "stream",
     "text": [
      "dict_items([(102, 'Rahul'), (105, 'Riyaa'), (106, 'Arjun'), (107, 'Prachi')])\n"
     ]
    }
   ],
   "source": [
    "d1={102: 'Rahul', 105: 'Riyaa', 106: 'Arjun', 107: 'Prachi'}\n",
    "d=d1.items()\n",
    "print(d)"
   ]
  },
  {
   "cell_type": "markdown",
   "id": "9827c97f-f5f9-47b3-880f-4efe6592448b",
   "metadata": {},
   "source": [
    "# Build in method"
   ]
  },
  {
   "cell_type": "code",
   "execution_count": 28,
   "id": "00d6471d-3288-4fcb-bdc0-009795b40004",
   "metadata": {},
   "outputs": [
    {
     "name": "stdout",
     "output_type": "stream",
     "text": [
      "4\n",
      "107\n",
      "102\n",
      "[102, 105, 106, 107]\n",
      "420\n"
     ]
    }
   ],
   "source": [
    "d1={102: 'Rahul', 105: 'Riyaa', 106: 'Arjun', 107: 'Prachi'}\n",
    "print(len(d1))\n",
    "print(max(d1))\n",
    "print(min(d1))\n",
    "print(sorted(d1))\n",
    "print(sum(d1))"
   ]
  },
  {
   "cell_type": "markdown",
   "id": "e08da53f-d574-4621-99ab-cf1518f21a06",
   "metadata": {},
   "source": [
    "# Concatenation and Repitation Operator are not support in the dict"
   ]
  },
  {
   "cell_type": "markdown",
   "id": "83590651-f26d-47ba-be47-26b6f78a58e8",
   "metadata": {},
   "source": [
    "# Comparison operator"
   ]
  },
  {
   "cell_type": "code",
   "execution_count": 30,
   "id": "997baca2-6132-4b92-ac7f-7e64c2c3f92d",
   "metadata": {},
   "outputs": [
    {
     "name": "stdout",
     "output_type": "stream",
     "text": [
      "True\n"
     ]
    }
   ],
   "source": [
    "d1={'b':\"Balaji\",'r':\"Riyaa\"}\n",
    "d2={'r':\"Riyaa\",'b':\"Balaji\"}\n",
    "d3=d1==d2\n",
    "print(d3)"
   ]
  },
  {
   "cell_type": "markdown",
   "id": "f7a41c92-a9ff-4478-b0d7-6cb46d21f568",
   "metadata": {},
   "source": [
    "# Object method"
   ]
  },
  {
   "cell_type": "code",
   "execution_count": 32,
   "id": "3f93d5fc-3996-40c7-8467-34dca40c4571",
   "metadata": {},
   "outputs": [
    {
     "name": "stdout",
     "output_type": "stream",
     "text": [
      "Prachi\n"
     ]
    }
   ],
   "source": [
    "d1={102: 'Rahul', 105: 'Riyaa', 106: 'Arjun', 107: 'Prachi'}\n",
    "d=d1.pop(107)\n",
    "print(d)"
   ]
  },
  {
   "cell_type": "code",
   "execution_count": 33,
   "id": "b4111f5e-9ff2-45c6-94dd-4570a626a66a",
   "metadata": {},
   "outputs": [
    {
     "name": "stdout",
     "output_type": "stream",
     "text": [
      "(107, 'Prachi')\n"
     ]
    }
   ],
   "source": [
    "d1={102: 'Rahul', 105: 'Riyaa', 106: 'Arjun', 107: 'Prachi'}\n",
    "d=d1.popitem()\n",
    "print(d)"
   ]
  },
  {
   "cell_type": "code",
   "execution_count": 34,
   "id": "4cbd3837-8493-4d9a-8a82-4c8f1ad54890",
   "metadata": {},
   "outputs": [
    {
     "name": "stdout",
     "output_type": "stream",
     "text": [
      "None\n"
     ]
    }
   ],
   "source": [
    "d1={102: 'Rahul', 105: 'Riyaa', 106: 'Arjun', 107: 'Prachi'}\n",
    "d=d1.clear()\n",
    "print(d)"
   ]
  },
  {
   "cell_type": "markdown",
   "id": "b6a7af26-dca8-4c88-93c1-6183e4282552",
   "metadata": {},
   "source": [
    "# dict campresion"
   ]
  },
  {
   "cell_type": "code",
   "execution_count": 35,
   "id": "3217c8e3-60af-4ce4-9810-a3cc4c6798de",
   "metadata": {},
   "outputs": [
    {
     "name": "stdout",
     "output_type": "stream",
     "text": [
      "{1: 1, 2: 4, 3: 9, 4: 16, 5: 25, 6: 36, 7: 49, 8: 64, 9: 81, 10: 100, 11: 121, 12: 144, 13: 169, 14: 196, 15: 225, 16: 256, 17: 289, 18: 324, 19: 361, 20: 400}\n"
     ]
    }
   ],
   "source": [
    "d1={a:a**2 for a in range(1,21,1)}\n",
    "print(d1)"
   ]
  }
 ],
 "metadata": {
  "kernelspec": {
   "display_name": "Python 3 (ipykernel)",
   "language": "python",
   "name": "python3"
  },
  "language_info": {
   "codemirror_mode": {
    "name": "ipython",
    "version": 3
   },
   "file_extension": ".py",
   "mimetype": "text/x-python",
   "name": "python",
   "nbconvert_exporter": "python",
   "pygments_lexer": "ipython3",
   "version": "3.12.3"
  }
 },
 "nbformat": 4,
 "nbformat_minor": 5
}
