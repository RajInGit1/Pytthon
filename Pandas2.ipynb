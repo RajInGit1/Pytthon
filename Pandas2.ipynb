{
 "cells": [
  {
   "cell_type": "code",
   "execution_count": 2,
   "id": "acf86c7d-1fb9-4a5b-bdfc-e98985aded7b",
   "metadata": {},
   "outputs": [],
   "source": [
    "import pandas as pd"
   ]
  },
  {
   "cell_type": "code",
   "execution_count": 3,
   "id": "c5090fa2-e9cb-4882-99a0-7055eda252bf",
   "metadata": {},
   "outputs": [
    {
     "name": "stdout",
     "output_type": "stream",
     "text": [
      "    Roll_No    Name Division  Marks Branch\n",
      "0        23   rahul        A     87    CSE\n",
      "1        16    riya        C     56   ENTC\n",
      "2        45    arav        F     45   AIML\n",
      "3        32  balaji        B     77     DS\n",
      "4        56     ram        E     48  CIVIL\n",
      "5        44   arjun        A     90   MECH\n",
      "6        21    data        B     76  CHEMI\n",
      "7        22    golu        C     45   ELEC\n",
      "8        45   bittu        D     82  CYBER\n",
      "9        12     adi        B     56    CSE\n",
      "10       29   anshu        A     78    CSE\n",
      "11       10   switi        C     65     DS\n",
      "12       31   rahul        E     49    CSE\n",
      "13       42     avi        B     80     DS\n",
      "14       33    ravi        A     97    CSE\n"
     ]
    }
   ],
   "source": [
    "df=pd.DataFrame( {\"Roll_No\":[23,16,45,32,56,44,21,22,45,12,29,10,31,42,33],\"Name\":\n",
    "                [\"rahul\",\"riya\",\"arav\",\"balaji\",\"ram\",\"arjun\",\"data\",\"golu\",\"bittu\",\"adi\",\"anshu\",\"switi\",\"rahul\",\"avi\",\"ravi\"], \"Division\":\n",
    "                [\"A\",\"C\",\"F\",\"B\",\"E\",\"A\",\"B\",\"C\",\"D\",\"B\",\"A\",\"C\",\"E\",\"B\",\"A\"], \"Marks\":\n",
    "                [87,56,45,77,48,90,76,45,82,56,78,65,49,80,97] ,\"Branch\":[\"CSE\",\"ENTC\",\"AIML\",\"DS\",\"CIVIL\",\"MECH\",\"CHEMI\",\"ELEC\",\"CYBER\",\"CSE\",\"CSE\",\"DS\",\"CSE\",\"DS\",\"CSE\"]})\n",
    "                                               \n",
    "print(df)"
   ]
  },
  {
   "cell_type": "code",
   "execution_count": 4,
   "id": "08c8ab51-c7f9-441d-9803-3d069605b410",
   "metadata": {},
   "outputs": [
    {
     "data": {
      "text/plain": [
       "Roll_No                                                   461\n",
       "Name        rahulriyaaravbalajiramarjundatagolubittuadians...\n",
       "Division                                      ACFBEABCDBACEBA\n",
       "Marks                                                    1031\n",
       "Branch      CSEENTCAIMLDSCIVILMECHCHEMIELECCYBERCSECSEDSCS...\n",
       "dtype: object"
      ]
     },
     "execution_count": 4,
     "metadata": {},
     "output_type": "execute_result"
    }
   ],
   "source": [
    "# apply sum() function to whole dataset\n",
    "df.sum()"
   ]
  },
  {
   "cell_type": "code",
   "execution_count": 5,
   "id": "9c575879-901b-4f77-aab9-6deab165e72b",
   "metadata": {},
   "outputs": [
    {
     "data": {
      "text/plain": [
       "Roll_No       10\n",
       "Name         adi\n",
       "Division       A\n",
       "Marks         45\n",
       "Branch      AIML\n",
       "dtype: object"
      ]
     },
     "execution_count": 5,
     "metadata": {},
     "output_type": "execute_result"
    }
   ],
   "source": [
    "# apply min() function to whole dataset\n",
    "df.min()"
   ]
  },
  {
   "cell_type": "code",
   "execution_count": 6,
   "id": "e571990e-0209-4064-941e-cbc9fd01c8b3",
   "metadata": {},
   "outputs": [
    {
     "data": {
      "text/plain": [
       "Roll_No        56\n",
       "Name        switi\n",
       "Division        F\n",
       "Marks          97\n",
       "Branch       MECH\n",
       "dtype: object"
      ]
     },
     "execution_count": 6,
     "metadata": {},
     "output_type": "execute_result"
    }
   ],
   "source": [
    "# apply max() function to whole dataset\n",
    "df.max()"
   ]
  },
  {
   "cell_type": "code",
   "execution_count": 7,
   "id": "c17a35f4-d3a4-40a8-aace-f8b69cb87ed1",
   "metadata": {},
   "outputs": [
    {
     "data": {
      "text/plain": [
       "15"
      ]
     },
     "execution_count": 7,
     "metadata": {},
     "output_type": "execute_result"
    }
   ],
   "source": [
    "# apply len() function to whole dataset\n",
    "len(df)"
   ]
  },
  {
   "cell_type": "code",
   "execution_count": 8,
   "id": "44aea185-78a8-46b9-862c-baa47d4bc102",
   "metadata": {},
   "outputs": [
    {
     "data": {
      "text/plain": [
       "Roll_No     15\n",
       "Name        15\n",
       "Division    15\n",
       "Marks       15\n",
       "Branch      15\n",
       "dtype: int64"
      ]
     },
     "execution_count": 8,
     "metadata": {},
     "output_type": "execute_result"
    }
   ],
   "source": [
    "# apply count() function to whole dataset\n",
    "df.count()"
   ]
  },
  {
   "cell_type": "code",
   "execution_count": 13,
   "id": "3ed0d993-339f-402d-bbde-4169427fa360",
   "metadata": {},
   "outputs": [
    {
     "name": "stdout",
     "output_type": "stream",
     "text": [
      "461\n",
      "total print:  1031\n"
     ]
    }
   ],
   "source": [
    "# apply aggregate function to specific column sum function is just work numeric value\n",
    "d=df[\"Roll_No\"].sum()\n",
    "print(d)\n",
    "d1=df[\"Marks\"].sum()\n",
    "print(\"total print: \",d1)"
   ]
  },
  {
   "cell_type": "code",
   "execution_count": 15,
   "id": "04473b5f-efc6-4a9f-9def-9d406f779c61",
   "metadata": {},
   "outputs": [
    {
     "name": "stdout",
     "output_type": "stream",
     "text": [
      "Min roll no.: 10\n",
      "Max roll no.: 56\n",
      "Min mark: 45\n",
      "Max mark: 97\n",
      "Mean of mark: 68.73333333333333\n",
      "total counts of name: 15\n"
     ]
    }
   ],
   "source": [
    "d=df[\"Roll_No\"].min()\n",
    "d1=df[\"Roll_No\"].max()\n",
    "d2=df[\"Marks\"].min()\n",
    "d3=df[\"Marks\"].max()\n",
    "d4=df[\"Marks\"].mean()\n",
    "d5=df[\"Name\"].count()\n",
    "print(\"Min roll no.:\",d)\n",
    "print(\"Max roll no.:\",d1)\n",
    "print(\"Min mark:\",d2)\n",
    "print(\"Max mark:\",d3)\n",
    "print(\"Mean of mark:\",d4)\n",
    "print(\"total counts of name:\",d5)"
   ]
  },
  {
   "cell_type": "code",
   "execution_count": 25,
   "id": "60ef2a18-bf4c-418a-a6f9-a0aad65bb028",
   "metadata": {},
   "outputs": [
    {
     "data": {
      "text/html": [
       "<div>\n",
       "<style scoped>\n",
       "    .dataframe tbody tr th:only-of-type {\n",
       "        vertical-align: middle;\n",
       "    }\n",
       "\n",
       "    .dataframe tbody tr th {\n",
       "        vertical-align: top;\n",
       "    }\n",
       "\n",
       "    .dataframe thead th {\n",
       "        text-align: right;\n",
       "    }\n",
       "</style>\n",
       "<table border=\"1\" class=\"dataframe\">\n",
       "  <thead>\n",
       "    <tr style=\"text-align: right;\">\n",
       "      <th></th>\n",
       "      <th>Roll_No</th>\n",
       "      <th>Name</th>\n",
       "      <th>Division</th>\n",
       "      <th>MSE_Mark</th>\n",
       "      <th>Branch</th>\n",
       "    </tr>\n",
       "  </thead>\n",
       "  <tbody>\n",
       "    <tr>\n",
       "      <th>0</th>\n",
       "      <td>23</td>\n",
       "      <td>rahul</td>\n",
       "      <td>A</td>\n",
       "      <td>87</td>\n",
       "      <td>CSE</td>\n",
       "    </tr>\n",
       "    <tr>\n",
       "      <th>1</th>\n",
       "      <td>16</td>\n",
       "      <td>riya</td>\n",
       "      <td>C</td>\n",
       "      <td>56</td>\n",
       "      <td>ENTC</td>\n",
       "    </tr>\n",
       "    <tr>\n",
       "      <th>2</th>\n",
       "      <td>45</td>\n",
       "      <td>arav</td>\n",
       "      <td>F</td>\n",
       "      <td>45</td>\n",
       "      <td>AIML</td>\n",
       "    </tr>\n",
       "    <tr>\n",
       "      <th>3</th>\n",
       "      <td>32</td>\n",
       "      <td>balaji</td>\n",
       "      <td>B</td>\n",
       "      <td>77</td>\n",
       "      <td>DS</td>\n",
       "    </tr>\n",
       "    <tr>\n",
       "      <th>4</th>\n",
       "      <td>56</td>\n",
       "      <td>ram</td>\n",
       "      <td>E</td>\n",
       "      <td>48</td>\n",
       "      <td>CIVIL</td>\n",
       "    </tr>\n",
       "    <tr>\n",
       "      <th>5</th>\n",
       "      <td>44</td>\n",
       "      <td>arjun</td>\n",
       "      <td>A</td>\n",
       "      <td>90</td>\n",
       "      <td>MECH</td>\n",
       "    </tr>\n",
       "    <tr>\n",
       "      <th>6</th>\n",
       "      <td>21</td>\n",
       "      <td>data</td>\n",
       "      <td>B</td>\n",
       "      <td>76</td>\n",
       "      <td>CHEMI</td>\n",
       "    </tr>\n",
       "    <tr>\n",
       "      <th>7</th>\n",
       "      <td>22</td>\n",
       "      <td>golu</td>\n",
       "      <td>C</td>\n",
       "      <td>45</td>\n",
       "      <td>ELEC</td>\n",
       "    </tr>\n",
       "    <tr>\n",
       "      <th>8</th>\n",
       "      <td>45</td>\n",
       "      <td>bittu</td>\n",
       "      <td>D</td>\n",
       "      <td>82</td>\n",
       "      <td>CYBER</td>\n",
       "    </tr>\n",
       "    <tr>\n",
       "      <th>9</th>\n",
       "      <td>12</td>\n",
       "      <td>adi</td>\n",
       "      <td>B</td>\n",
       "      <td>56</td>\n",
       "      <td>CSE</td>\n",
       "    </tr>\n",
       "    <tr>\n",
       "      <th>10</th>\n",
       "      <td>29</td>\n",
       "      <td>anshu</td>\n",
       "      <td>A</td>\n",
       "      <td>78</td>\n",
       "      <td>CSE</td>\n",
       "    </tr>\n",
       "    <tr>\n",
       "      <th>11</th>\n",
       "      <td>10</td>\n",
       "      <td>switi</td>\n",
       "      <td>C</td>\n",
       "      <td>65</td>\n",
       "      <td>DS</td>\n",
       "    </tr>\n",
       "    <tr>\n",
       "      <th>12</th>\n",
       "      <td>31</td>\n",
       "      <td>rahul</td>\n",
       "      <td>E</td>\n",
       "      <td>49</td>\n",
       "      <td>CSE</td>\n",
       "    </tr>\n",
       "    <tr>\n",
       "      <th>13</th>\n",
       "      <td>42</td>\n",
       "      <td>avi</td>\n",
       "      <td>B</td>\n",
       "      <td>80</td>\n",
       "      <td>DS</td>\n",
       "    </tr>\n",
       "    <tr>\n",
       "      <th>14</th>\n",
       "      <td>33</td>\n",
       "      <td>ravi</td>\n",
       "      <td>A</td>\n",
       "      <td>97</td>\n",
       "      <td>CSE</td>\n",
       "    </tr>\n",
       "  </tbody>\n",
       "</table>\n",
       "</div>"
      ],
      "text/plain": [
       "    Roll_No    Name Division  MSE_Mark Branch\n",
       "0        23   rahul        A        87    CSE\n",
       "1        16    riya        C        56   ENTC\n",
       "2        45    arav        F        45   AIML\n",
       "3        32  balaji        B        77     DS\n",
       "4        56     ram        E        48  CIVIL\n",
       "5        44   arjun        A        90   MECH\n",
       "6        21    data        B        76  CHEMI\n",
       "7        22    golu        C        45   ELEC\n",
       "8        45   bittu        D        82  CYBER\n",
       "9        12     adi        B        56    CSE\n",
       "10       29   anshu        A        78    CSE\n",
       "11       10   switi        C        65     DS\n",
       "12       31   rahul        E        49    CSE\n",
       "13       42     avi        B        80     DS\n",
       "14       33    ravi        A        97    CSE"
      ]
     },
     "execution_count": 25,
     "metadata": {},
     "output_type": "execute_result"
    }
   ],
   "source": [
    "df=df.rename(columns={\"Marks\":\"MSE_Mark\"})\n",
    "df"
   ]
  },
  {
   "cell_type": "code",
   "execution_count": 27,
   "id": "b05bc4a5-a29f-4927-990d-9c8eaec87e64",
   "metadata": {},
   "outputs": [
    {
     "data": {
      "text/html": [
       "<div>\n",
       "<style scoped>\n",
       "    .dataframe tbody tr th:only-of-type {\n",
       "        vertical-align: middle;\n",
       "    }\n",
       "\n",
       "    .dataframe tbody tr th {\n",
       "        vertical-align: top;\n",
       "    }\n",
       "\n",
       "    .dataframe thead th {\n",
       "        text-align: right;\n",
       "    }\n",
       "</style>\n",
       "<table border=\"1\" class=\"dataframe\">\n",
       "  <thead>\n",
       "    <tr style=\"text-align: right;\">\n",
       "      <th></th>\n",
       "      <th>Roll_No</th>\n",
       "      <th>Name</th>\n",
       "      <th>Division</th>\n",
       "      <th>MSE_Mark</th>\n",
       "      <th>Branch</th>\n",
       "    </tr>\n",
       "  </thead>\n",
       "  <tbody>\n",
       "    <tr>\n",
       "      <th>0</th>\n",
       "      <td>23</td>\n",
       "      <td>rahul</td>\n",
       "      <td>A</td>\n",
       "      <td>13</td>\n",
       "      <td>CSE</td>\n",
       "    </tr>\n",
       "    <tr>\n",
       "      <th>1</th>\n",
       "      <td>16</td>\n",
       "      <td>riya</td>\n",
       "      <td>C</td>\n",
       "      <td>23</td>\n",
       "      <td>ENTC</td>\n",
       "    </tr>\n",
       "    <tr>\n",
       "      <th>2</th>\n",
       "      <td>45</td>\n",
       "      <td>arav</td>\n",
       "      <td>F</td>\n",
       "      <td>21</td>\n",
       "      <td>AIML</td>\n",
       "    </tr>\n",
       "    <tr>\n",
       "      <th>3</th>\n",
       "      <td>32</td>\n",
       "      <td>balaji</td>\n",
       "      <td>B</td>\n",
       "      <td>22</td>\n",
       "      <td>DS</td>\n",
       "    </tr>\n",
       "    <tr>\n",
       "      <th>4</th>\n",
       "      <td>56</td>\n",
       "      <td>ram</td>\n",
       "      <td>E</td>\n",
       "      <td>14</td>\n",
       "      <td>CIVIL</td>\n",
       "    </tr>\n",
       "    <tr>\n",
       "      <th>5</th>\n",
       "      <td>44</td>\n",
       "      <td>arjun</td>\n",
       "      <td>A</td>\n",
       "      <td>25</td>\n",
       "      <td>MECH</td>\n",
       "    </tr>\n",
       "    <tr>\n",
       "      <th>6</th>\n",
       "      <td>21</td>\n",
       "      <td>data</td>\n",
       "      <td>B</td>\n",
       "      <td>12</td>\n",
       "      <td>CHEMI</td>\n",
       "    </tr>\n",
       "    <tr>\n",
       "      <th>7</th>\n",
       "      <td>22</td>\n",
       "      <td>golu</td>\n",
       "      <td>C</td>\n",
       "      <td>19</td>\n",
       "      <td>ELEC</td>\n",
       "    </tr>\n",
       "    <tr>\n",
       "      <th>8</th>\n",
       "      <td>45</td>\n",
       "      <td>bittu</td>\n",
       "      <td>D</td>\n",
       "      <td>20</td>\n",
       "      <td>CYBER</td>\n",
       "    </tr>\n",
       "    <tr>\n",
       "      <th>9</th>\n",
       "      <td>12</td>\n",
       "      <td>adi</td>\n",
       "      <td>B</td>\n",
       "      <td>27</td>\n",
       "      <td>CSE</td>\n",
       "    </tr>\n",
       "    <tr>\n",
       "      <th>10</th>\n",
       "      <td>29</td>\n",
       "      <td>anshu</td>\n",
       "      <td>A</td>\n",
       "      <td>19</td>\n",
       "      <td>CSE</td>\n",
       "    </tr>\n",
       "    <tr>\n",
       "      <th>11</th>\n",
       "      <td>10</td>\n",
       "      <td>switi</td>\n",
       "      <td>C</td>\n",
       "      <td>22</td>\n",
       "      <td>DS</td>\n",
       "    </tr>\n",
       "    <tr>\n",
       "      <th>12</th>\n",
       "      <td>31</td>\n",
       "      <td>rahul</td>\n",
       "      <td>E</td>\n",
       "      <td>13</td>\n",
       "      <td>CSE</td>\n",
       "    </tr>\n",
       "    <tr>\n",
       "      <th>13</th>\n",
       "      <td>42</td>\n",
       "      <td>avi</td>\n",
       "      <td>B</td>\n",
       "      <td>14</td>\n",
       "      <td>DS</td>\n",
       "    </tr>\n",
       "    <tr>\n",
       "      <th>14</th>\n",
       "      <td>33</td>\n",
       "      <td>ravi</td>\n",
       "      <td>A</td>\n",
       "      <td>21</td>\n",
       "      <td>CSE</td>\n",
       "    </tr>\n",
       "  </tbody>\n",
       "</table>\n",
       "</div>"
      ],
      "text/plain": [
       "    Roll_No    Name Division  MSE_Mark Branch\n",
       "0        23   rahul        A        13    CSE\n",
       "1        16    riya        C        23   ENTC\n",
       "2        45    arav        F        21   AIML\n",
       "3        32  balaji        B        22     DS\n",
       "4        56     ram        E        14  CIVIL\n",
       "5        44   arjun        A        25   MECH\n",
       "6        21    data        B        12  CHEMI\n",
       "7        22    golu        C        19   ELEC\n",
       "8        45   bittu        D        20  CYBER\n",
       "9        12     adi        B        27    CSE\n",
       "10       29   anshu        A        19    CSE\n",
       "11       10   switi        C        22     DS\n",
       "12       31   rahul        E        13    CSE\n",
       "13       42     avi        B        14     DS\n",
       "14       33    ravi        A        21    CSE"
      ]
     },
     "execution_count": 27,
     "metadata": {},
     "output_type": "execute_result"
    }
   ],
   "source": [
    "df[\"MSE_Mark\"]=[13,23,21,22,14,25,12,19,20,27,19,22,13,14,21]\n",
    "df"
   ]
  }
 ],
 "metadata": {
  "kernelspec": {
   "display_name": "Python 3 (ipykernel)",
   "language": "python",
   "name": "python3"
  },
  "language_info": {
   "codemirror_mode": {
    "name": "ipython",
    "version": 3
   },
   "file_extension": ".py",
   "mimetype": "text/x-python",
   "name": "python",
   "nbconvert_exporter": "python",
   "pygments_lexer": "ipython3",
   "version": "3.12.3"
  }
 },
 "nbformat": 4,
 "nbformat_minor": 5
}
