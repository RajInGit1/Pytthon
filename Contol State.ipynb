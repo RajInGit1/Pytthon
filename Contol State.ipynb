{
 "cells": [
  {
   "cell_type": "code",
   "execution_count": 19,
   "id": "d2505de5-4519-4bfe-b2f9-6c2b96f3701e",
   "metadata": {},
   "outputs": [
    {
     "name": "stdout",
     "output_type": "stream",
     "text": [
      "hii\n"
     ]
    }
   ],
   "source": [
    "x = -20\n",
    "if x<0:\n",
    " print(\"hii\")       "
   ]
  },
  {
   "cell_type": "code",
   "execution_count": 3,
   "id": "14b37a73-91d3-4122-8130-85dbd385e256",
   "metadata": {},
   "outputs": [
    {
     "name": "stdout",
     "output_type": "stream",
     "text": [
      "by\n"
     ]
    }
   ],
   "source": [
    "x = -20\n",
    "if x>0:\n",
    " print(\"hii\")  \n",
    "print(\"by\")"
   ]
  },
  {
   "cell_type": "code",
   "execution_count": 10,
   "id": "328b37d1-1f52-4d28-baa3-9f559e10ad41",
   "metadata": {},
   "outputs": [
    {
     "name": "stdout",
     "output_type": "stream",
     "text": [
      "Hello\n",
      "Hii\n"
     ]
    }
   ],
   "source": [
    "x=20\n",
    "if x>0:\n",
    "    print(\"Hello\")\n",
    "print(\"Hii\")   \n"
   ]
  },
  {
   "cell_type": "code",
   "execution_count": 26,
   "id": "8ac40b26-cdad-46d4-ae05-44f81930a43e",
   "metadata": {},
   "outputs": [
    {
     "name": "stdin",
     "output_type": "stream",
     "text": [
      "Enter Number: -7\n"
     ]
    },
    {
     "name": "stdout",
     "output_type": "stream",
     "text": [
      " Number is Negative\n"
     ]
    }
   ],
   "source": [
    "x=int(input(\"Enter Number:\"))\n",
    "if  x>0:\n",
    "    print(\"Number is positive\")\n",
    "if x<=0:\n",
    "    print(\" Number is Negative\")\n",
    "\n",
    "      "
   ]
  },
  {
   "cell_type": "code",
   "execution_count": 30,
   "id": "772c955a-1c1e-40c9-aaf5-e9155cefd72c",
   "metadata": {},
   "outputs": [
    {
     "name": "stdin",
     "output_type": "stream",
     "text": [
      "Enter Number:  8\n"
     ]
    },
    {
     "name": "stdout",
     "output_type": "stream",
     "text": [
      "Number is Even.\n"
     ]
    }
   ],
   "source": [
    "n=int(input(\"Enter Number: \"))\n",
    "if  n%2==0:\n",
    "     print(\"Number is Even.\")\n",
    "else:\n",
    "     print(\"Number is odd\")"
   ]
  },
  {
   "cell_type": "code",
   "execution_count": 35,
   "id": "aa712aba-afa0-45bb-bcfa-6d31995e8730",
   "metadata": {},
   "outputs": [
    {
     "name": "stdin",
     "output_type": "stream",
     "text": [
      "Enter Marks:  96\n"
     ]
    },
    {
     "name": "stdout",
     "output_type": "stream",
     "text": [
      "Grade -A\n"
     ]
    }
   ],
   "source": [
    "n=int(input(\"Enter Marks: \"))\n",
    "if n>90:\n",
    "     print(\"Grade -A\")\n",
    "elif n>80:\n",
    "     print(\"Grade -B\")\n",
    "elif n>70:\n",
    "     print(\"Grade -C\")\n",
    "elif n>60:\n",
    "     print(\"Grade -D\")\n",
    "else:\n",
    "     print(\"Grade -F\")\n",
    "    "
   ]
  },
  {
   "cell_type": "code",
   "execution_count": 37,
   "id": "9f290915-470a-4a22-a507-51cf06434e42",
   "metadata": {},
   "outputs": [
    {
     "name": "stdin",
     "output_type": "stream",
     "text": [
      "Enter Number: 9\n"
     ]
    },
    {
     "name": "stdout",
     "output_type": "stream",
     "text": [
      "Odd\n"
     ]
    }
   ],
   "source": [
    "n=int(input(\"Enter Number:\"))\n",
    "print(\"Even\" if n%2==0 else \"Odd\")"
   ]
  }
 ],
 "metadata": {
  "kernelspec": {
   "display_name": "Python 3 (ipykernel)",
   "language": "python",
   "name": "python3"
  },
  "language_info": {
   "codemirror_mode": {
    "name": "ipython",
    "version": 3
   },
   "file_extension": ".py",
   "mimetype": "text/x-python",
   "name": "python",
   "nbconvert_exporter": "python",
   "pygments_lexer": "ipython3",
   "version": "3.12.3"
  }
 },
 "nbformat": 4,
 "nbformat_minor": 5
}
