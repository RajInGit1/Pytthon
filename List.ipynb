{
 "cells": [
  {
   "cell_type": "code",
   "execution_count": null,
   "id": "3181cfcc-1b5c-4788-92db-4a1c5e13bbf3",
   "metadata": {},
   "outputs": [],
   "source": [
    "#List "
   ]
  },
  {
   "cell_type": "code",
   "execution_count": 5,
   "id": "e0df61a8-4873-4da8-b66e-de85b88e8f0f",
   "metadata": {},
   "outputs": [
    {
     "name": "stdout",
     "output_type": "stream",
     "text": [
      "[12, 23, 45, 67, 'b', 'r', 'm', 5.6, 78.5]\n"
     ]
    }
   ],
   "source": [
    "l1=[12,23,45,67,\"b\",\"r\",\"m\",5.6,78.5]\n",
    "print(l1)"
   ]
  },
  {
   "cell_type": "code",
   "execution_count": 9,
   "id": "0594e95b-ae85-40e2-9347-fc0954d9baec",
   "metadata": {},
   "outputs": [
    {
     "name": "stdout",
     "output_type": "stream",
     "text": [
      "[23, 45, 67, 'b']\n",
      "<class 'list'>\n"
     ]
    }
   ],
   "source": [
    "l1=[12,23,45,67,\"b\",\"r\",\"m\",5.6,78.5]\n",
    "print(l1[1:5])\n",
    "print(type(l1))"
   ]
  },
  {
   "cell_type": "code",
   "execution_count": 12,
   "id": "26799212-8922-4ad2-90da-f9e8bdf73306",
   "metadata": {},
   "outputs": [
    {
     "name": "stdout",
     "output_type": "stream",
     "text": [
      "r\n"
     ]
    }
   ],
   "source": [
    "l1=[12,23,45,67,\"b\",\"r\",\"m\",5.6,78.5]\n",
    "l1[5]\n",
    "print(l1[5])"
   ]
  },
  {
   "cell_type": "code",
   "execution_count": 18,
   "id": "17695b24-5f2a-4ced-a74d-488be1a1dac8",
   "metadata": {},
   "outputs": [
    {
     "name": "stdout",
     "output_type": "stream",
     "text": [
      "[67, 'b', 'r', 'm', 5.6]\n"
     ]
    }
   ],
   "source": [
    "l1=[12,23,45,67,\"b\",\"r\",\"m\",5.6,78.5]\n",
    "print(l1[-6:-1])"
   ]
  },
  {
   "cell_type": "code",
   "execution_count": 29,
   "id": "d9e42011-7b25-4dba-9926-3c947c47f7cc",
   "metadata": {},
   "outputs": [
    {
     "name": "stdout",
     "output_type": "stream",
     "text": [
      "9\n",
      "78.5\n",
      "5.6\n",
      "297.1\n",
      "[5.6, 11, 12, 22, 23, 33, 45, 67, 78.5]\n"
     ]
    }
   ],
   "source": [
    "#build in method in List\n",
    "\n",
    "l1=[12,23,45,67,11,22,33,5.6,78.5]\n",
    "print(len(l1))\n",
    "print(max(l1))\n",
    "print(min(l1))\n",
    "print(sum(l1))\n",
    "print(sorted(l1))"
   ]
  },
  {
   "cell_type": "code",
   "execution_count": 37,
   "id": "b7b97067-9abc-4f41-be0a-fdcf58aad090",
   "metadata": {},
   "outputs": [
    {
     "name": "stdout",
     "output_type": "stream",
     "text": [
      "11\n",
      "22\n",
      "33\n",
      "11 22 33\n",
      "[11, 22, 33]\n"
     ]
    }
   ],
   "source": [
    "#Unpacking\n",
    "\n",
    "l1=[11,22,33]\n",
    "a,b,c=l1\n",
    "print(a)\n",
    "print(b)\n",
    "print(c)\n",
    "print(a,b,c)\n",
    "print(l1)"
   ]
  },
  {
   "cell_type": "code",
   "execution_count": 38,
   "id": "36fc12eb-96dc-4e96-9a0c-49151e71ec9f",
   "metadata": {},
   "outputs": [
    {
     "name": "stdout",
     "output_type": "stream",
     "text": [
      "[11, 22, 33]\n",
      "11\n"
     ]
    }
   ],
   "source": [
    "#Packing\n",
    "a=11\n",
    "b=22\n",
    "c=33\n",
    "l1=[a,b,c]\n",
    "print(l1)\n",
    "print(a)"
   ]
  },
  {
   "cell_type": "code",
   "execution_count": 40,
   "id": "b51a96fa-ed75-4fc3-af41-0d6c8724f71d",
   "metadata": {},
   "outputs": [
    {
     "name": "stdout",
     "output_type": "stream",
     "text": [
      "[]\n"
     ]
    }
   ],
   "source": [
    "l1=list()\n",
    "print(l1)"
   ]
  },
  {
   "cell_type": "code",
   "execution_count": 46,
   "id": "dd98d15c-9299-491c-9e7a-97731bbb7ae1",
   "metadata": {},
   "outputs": [
    {
     "ename": "TypeError",
     "evalue": "'int' object is not iterable",
     "output_type": "error",
     "traceback": [
      "\u001b[1;31m---------------------------------------------------------------------------\u001b[0m",
      "\u001b[1;31mTypeError\u001b[0m                                 Traceback (most recent call last)",
      "Cell \u001b[1;32mIn[46], line 1\u001b[0m\n\u001b[1;32m----> 1\u001b[0m l1\u001b[38;5;241m=\u001b[39m\u001b[38;5;28;43mlist\u001b[39;49m\u001b[43m(\u001b[49m\u001b[38;5;241;43m10\u001b[39;49m\u001b[43m)\u001b[49m\n\u001b[0;32m      2\u001b[0m \u001b[38;5;28mprint\u001b[39m(l1)\n",
      "\u001b[1;31mTypeError\u001b[0m: 'int' object is not iterable"
     ]
    }
   ],
   "source": [
    "l1=list(10)\n",
    "print(l1)"
   ]
  },
  {
   "cell_type": "code",
   "execution_count": 47,
   "id": "011545c8-4a83-4d92-9ec7-b1168512d813",
   "metadata": {},
   "outputs": [
    {
     "ename": "TypeError",
     "evalue": "list expected at most 1 argument, got 3",
     "output_type": "error",
     "traceback": [
      "\u001b[1;31m---------------------------------------------------------------------------\u001b[0m",
      "\u001b[1;31mTypeError\u001b[0m                                 Traceback (most recent call last)",
      "Cell \u001b[1;32mIn[47], line 1\u001b[0m\n\u001b[1;32m----> 1\u001b[0m l1\u001b[38;5;241m=\u001b[39m\u001b[38;5;28;43mlist\u001b[39;49m\u001b[43m(\u001b[49m\u001b[38;5;241;43m11\u001b[39;49m\u001b[43m,\u001b[49m\u001b[38;5;241;43m22\u001b[39;49m\u001b[43m,\u001b[49m\u001b[38;5;241;43m33\u001b[39;49m\u001b[43m)\u001b[49m\n\u001b[0;32m      2\u001b[0m \u001b[38;5;28mprint\u001b[39m(l1)\n",
      "\u001b[1;31mTypeError\u001b[0m: list expected at most 1 argument, got 3"
     ]
    }
   ],
   "source": [
    "l1=list(11,22,33)\n",
    "print(l1)"
   ]
  },
  {
   "cell_type": "code",
   "execution_count": 45,
   "id": "35472100-d074-4b42-891a-a2a5bc21b4eb",
   "metadata": {},
   "outputs": [
    {
     "name": "stdout",
     "output_type": "stream",
     "text": [
      "[0, 1, 2, 3, 4]\n",
      "[5, 6, 7, 8, 9]\n"
     ]
    }
   ],
   "source": [
    "r=list(range(5))\n",
    "print(r)\n",
    "r=list(range(5,10))\n",
    "print(r)"
   ]
  },
  {
   "cell_type": "code",
   "execution_count": 49,
   "id": "20f76d8f-b94b-44e4-90d0-3010e03b0198",
   "metadata": {},
   "outputs": [
    {
     "name": "stdout",
     "output_type": "stream",
     "text": [
      "['M', 'y', 'S', 'i', 'r', 'G']\n",
      "['y', 'S']\n"
     ]
    }
   ],
   "source": [
    "l1=list(\"MySirG\")\n",
    "print(l1)\n",
    "l1=list(\"MySirG\")\n",
    "print(l1[1:3])\n"
   ]
  },
  {
   "cell_type": "code",
   "execution_count": 50,
   "id": "4b94248a-aff0-4050-943e-cfdd2861a93f",
   "metadata": {},
   "outputs": [
    {
     "name": "stdout",
     "output_type": "stream",
     "text": [
      "[10, 11, 12]\n"
     ]
    }
   ],
   "source": [
    "l1=list([10,11,12])\n",
    "print(l1)"
   ]
  },
  {
   "cell_type": "code",
   "execution_count": null,
   "id": "453dc1b7-1447-42b4-b843-5923f63ba32c",
   "metadata": {},
   "outputs": [],
   "source": [
    "#Comparison Operator"
   ]
  },
  {
   "cell_type": "code",
   "execution_count": 54,
   "id": "9e241004-8f69-444a-96f6-5034078eaae0",
   "metadata": {},
   "outputs": [
    {
     "name": "stdout",
     "output_type": "stream",
     "text": [
      "True\n",
      "False\n",
      "False\n",
      "True\n"
     ]
    }
   ],
   "source": [
    "l1=[1,2,3,4]\n",
    "l2=[11,22,33,44]\n",
    "l3=[1,2,3,4]\n",
    "l4=[11,22,33,55]\n",
    "l=l1==l3\n",
    "print(l)\n",
    "li=l2==l4\n",
    "print(li)\n",
    "lo=l1>l2\n",
    "print(lo)\n",
    "lu=l1<l2\n",
    "print(lu)"
   ]
  },
  {
   "cell_type": "code",
   "execution_count": null,
   "id": "e4531992-9c0c-4a96-832d-a1b3a1f3601a",
   "metadata": {},
   "outputs": [],
   "source": [
    "#Concatenation Operator"
   ]
  },
  {
   "cell_type": "code",
   "execution_count": 55,
   "id": "dcb6ec18-c6b0-421b-a195-3d382069c235",
   "metadata": {},
   "outputs": [
    {
     "name": "stdout",
     "output_type": "stream",
     "text": [
      "[1, 2, 3, 4, 5, 6]\n"
     ]
    }
   ],
   "source": [
    "l1=[1,2,3]\n",
    "l2=[4,5,6]\n",
    "l3=l1+l2\n",
    "print(l3)"
   ]
  },
  {
   "cell_type": "code",
   "execution_count": null,
   "id": "44e0597f-5b00-4887-99c5-606ce551ba31",
   "metadata": {},
   "outputs": [],
   "source": [
    "#Repetation Operator"
   ]
  },
  {
   "cell_type": "code",
   "execution_count": 56,
   "id": "8af1bebe-2446-4b34-b2ad-4878fec239c8",
   "metadata": {},
   "outputs": [
    {
     "name": "stdout",
     "output_type": "stream",
     "text": [
      "[2, 5, 8, 2, 5, 8, 2, 5, 8]\n"
     ]
    }
   ],
   "source": [
    "l1=[2,5,8]\n",
    "l2=l1*3\n",
    "print(l2)"
   ]
  },
  {
   "cell_type": "code",
   "execution_count": null,
   "id": "2f7d3048-1f48-40e8-9f70-1e6f9a3f4ee0",
   "metadata": {},
   "outputs": [],
   "source": [
    "#List of list"
   ]
  },
  {
   "cell_type": "code",
   "execution_count": 59,
   "id": "e3a448c5-3b94-4f0d-930a-e4ed98e71bd2",
   "metadata": {},
   "outputs": [
    {
     "name": "stdout",
     "output_type": "stream",
     "text": [
      "1\n",
      "3\n",
      "0\n"
     ]
    }
   ],
   "source": [
    "l1=[[1,2,3],[4,5,6],[8,9,0]]\n",
    "print(l1[0][0])\n",
    "print(l1[0][2])\n",
    "print(l1[2][2])"
   ]
  },
  {
   "cell_type": "code",
   "execution_count": null,
   "id": "ae48ca55-265b-4ef2-bfdd-b172060c5ca0",
   "metadata": {},
   "outputs": [],
   "source": [
    "#List Object Method"
   ]
  },
  {
   "cell_type": "code",
   "execution_count": 13,
   "id": "fe780b59-f62b-423b-b40f-e934f8ed7f91",
   "metadata": {},
   "outputs": [
    {
     "name": "stdout",
     "output_type": "stream",
     "text": [
      "[12, 23, 45, 67, 'b', 'r', 'm', 5.6, 78.5, 60]\n"
     ]
    }
   ],
   "source": [
    "l1=[12,23,45,67,\"b\",\"r\",\"m\",5.6,78.5]\n",
    "l1.append(60)\n",
    "print(l1)"
   ]
  },
  {
   "cell_type": "code",
   "execution_count": 19,
   "id": "f8d2f02d-cc32-46c6-8eb2-fef5a7058ee9",
   "metadata": {},
   "outputs": [
    {
     "name": "stdout",
     "output_type": "stream",
     "text": [
      "[12, 23, 45, 70, 67, 'b', 'r', 'm', 5.6, 78.5]\n"
     ]
    }
   ],
   "source": [
    "l1=[12,23,45,67,\"b\",\"r\",\"m\",5.6,78.5]\n",
    "l1.insert(3,70)\n",
    "print(l1)"
   ]
  },
  {
   "cell_type": "code",
   "execution_count": 20,
   "id": "cc80d748-fd46-44a6-b0a7-88fdc8ab0911",
   "metadata": {},
   "outputs": [
    {
     "name": "stdout",
     "output_type": "stream",
     "text": [
      "[12, 23, 45, 67, 'b', 'r', 'm', 5.6, 78.5, 100]\n"
     ]
    }
   ],
   "source": [
    "l1=[12,23,45,67,\"b\",\"r\",\"m\",5.6,78.5]\n",
    "l1.insert(25,100)\n",
    "print(l1)"
   ]
  },
  {
   "cell_type": "code",
   "execution_count": 60,
   "id": "e6cfc7ee-acbc-4018-af1a-b70c078359bd",
   "metadata": {},
   "outputs": [
    {
     "name": "stdout",
     "output_type": "stream",
     "text": [
      "[11, 22, 33, 44, 55, 66, 77, 88, 99, 100]\n"
     ]
    }
   ],
   "source": [
    "l1=[11,22,33,44,55,66,77,88,99,100]\n",
    "print(l1)"
   ]
  },
  {
   "cell_type": "code",
   "execution_count": 64,
   "id": "0882af1d-7e25-4f63-86a8-82b3631e7917",
   "metadata": {},
   "outputs": [
    {
     "name": "stdout",
     "output_type": "stream",
     "text": [
      "[11, 22, 33, 44, 55, 66, 77, 88, 100]\n"
     ]
    }
   ],
   "source": [
    "l1=[11,22,33,44,55,66,77,88,99,100]\n",
    "l1.remove(99)\n",
    "print(l1)"
   ]
  },
  {
   "cell_type": "code",
   "execution_count": 62,
   "id": "db59d69a-70aa-491e-b77b-016869322cd4",
   "metadata": {},
   "outputs": [
    {
     "name": "stdout",
     "output_type": "stream",
     "text": [
      "[11, 22, 33, 44, 55, 66, 77, 88, 99]\n"
     ]
    }
   ],
   "source": [
    "l1=[11,22,33,44,55,66,77,88,99,100]\n",
    "l1.pop()\n",
    "print(l1)"
   ]
  },
  {
   "cell_type": "code",
   "execution_count": 66,
   "id": "7b75d53b-5b23-49d8-8c15-471c35f670b4",
   "metadata": {},
   "outputs": [
    {
     "name": "stdout",
     "output_type": "stream",
     "text": [
      "[]\n"
     ]
    }
   ],
   "source": [
    "l1=[11,22,33,44,55,66,77,88,99,100]\n",
    "l1.clear()\n",
    "print(l1)"
   ]
  },
  {
   "cell_type": "code",
   "execution_count": 67,
   "id": "c437373f-3fba-4e5d-aaba-ad948e276113",
   "metadata": {},
   "outputs": [
    {
     "name": "stdout",
     "output_type": "stream",
     "text": [
      "[100, 99, 88, 77, 66, 55, 44, 33, 22, 11]\n"
     ]
    }
   ],
   "source": [
    "l1=[11,22,33,44,55,66,77,88,99,100]\n",
    "l1.reverse()\n",
    "print(l1)"
   ]
  },
  {
   "cell_type": "code",
   "execution_count": 68,
   "id": "7d5b96a4-92d2-4ed6-b89b-2c3ac357899e",
   "metadata": {},
   "outputs": [
    {
     "name": "stdout",
     "output_type": "stream",
     "text": [
      "[11, 22, 33, 44, 55, 66, 77, 88, 99, 100]\n"
     ]
    }
   ],
   "source": [
    "l1=[100, 99, 88, 77, 66, 55, 44, 33, 22, 11]\n",
    "l1.sort()\n",
    "print(l1)"
   ]
  },
  {
   "cell_type": "code",
   "execution_count": 72,
   "id": "6ba96e20-85ee-4490-b709-2e863562c78f",
   "metadata": {},
   "outputs": [
    {
     "name": "stdout",
     "output_type": "stream",
     "text": [
      "5\n"
     ]
    }
   ],
   "source": [
    "l1=[100, 99, 88, 77, 66, 55, 44, 33, 22, 11]\n",
    "x=l1.index(55)\n",
    "print(x)"
   ]
  },
  {
   "cell_type": "code",
   "execution_count": 74,
   "id": "aa845430-dbc1-4d0e-a24e-e1ae446ba5e9",
   "metadata": {},
   "outputs": [
    {
     "name": "stdout",
     "output_type": "stream",
     "text": [
      "3\n"
     ]
    }
   ],
   "source": [
    "l1=[100, 99, 88, 77, 66, 55, 44, 33, 22, 11,99,99]\n",
    "x=l1.count(99)\n",
    "print(x)"
   ]
  },
  {
   "cell_type": "code",
   "execution_count": null,
   "id": "35d75a57-7891-47a7-8176-32395a2a7024",
   "metadata": {},
   "outputs": [],
   "source": [
    "#List of Compression"
   ]
  },
  {
   "cell_type": "code",
   "execution_count": 75,
   "id": "e2b40526-3f24-4c06-ac5b-bc8b2a0811aa",
   "metadata": {},
   "outputs": [
    {
     "name": "stdout",
     "output_type": "stream",
     "text": [
      "[1, 2, 3, 4, 5]\n"
     ]
    }
   ],
   "source": [
    "l1=[a+1 for a in range(5)]\n",
    "print(l1)"
   ]
  },
  {
   "cell_type": "code",
   "execution_count": 76,
   "id": "a1a843fc-cd3a-403e-b638-17323cb06c11",
   "metadata": {},
   "outputs": [
    {
     "name": "stdout",
     "output_type": "stream",
     "text": [
      "[7, 7, 7, 7, 7]\n"
     ]
    }
   ],
   "source": [
    "l1=[3+4 for a in range(5)]\n",
    "print(l1)"
   ]
  },
  {
   "cell_type": "code",
   "execution_count": 82,
   "id": "633975a6-1829-499b-a322-d0d3dfa81a78",
   "metadata": {},
   "outputs": [
    {
     "name": "stdout",
     "output_type": "stream",
     "text": [
      "[4, 9, 16, 25, 36, 49, 64, 81, 100, 121, 144, 169, 196, 225, 256, 289, 324, 361]\n"
     ]
    }
   ],
   "source": [
    "l1=[a**2 for a in range(2,20,1)]\n",
    "print(l1)"
   ]
  },
  {
   "cell_type": "code",
   "execution_count": null,
   "id": "5d18de4d-72ef-4132-a684-eab6434ef6be",
   "metadata": {},
   "outputs": [],
   "source": [
    "#Reverse a String"
   ]
  },
  {
   "cell_type": "code",
   "execution_count": 84,
   "id": "e2edeb51-05ce-4774-8cde-8117b2e822dc",
   "metadata": {},
   "outputs": [
    {
     "name": "stdout",
     "output_type": "stream",
     "text": [
      "ijalab\n"
     ]
    }
   ],
   "source": [
    "l1=\"balaji\"\n",
    "print(l1[::-1])"
   ]
  }
 ],
 "metadata": {
  "kernelspec": {
   "display_name": "Python 3 (ipykernel)",
   "language": "python",
   "name": "python3"
  },
  "language_info": {
   "codemirror_mode": {
    "name": "ipython",
    "version": 3
   },
   "file_extension": ".py",
   "mimetype": "text/x-python",
   "name": "python",
   "nbconvert_exporter": "python",
   "pygments_lexer": "ipython3",
   "version": "3.12.3"
  }
 },
 "nbformat": 4,
 "nbformat_minor": 5
}
