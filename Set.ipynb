{
 "cells": [
  {
   "cell_type": "markdown",
   "id": "75653ce9-7392-4d82-9b07-07637b1c8897",
   "metadata": {},
   "source": [
    "# Set"
   ]
  },
  {
   "cell_type": "code",
   "execution_count": 8,
   "id": "76467ca5-0adb-47f6-9557-62cfe6b5544d",
   "metadata": {},
   "outputs": [
    {
     "name": "stdout",
     "output_type": "stream",
     "text": [
      "<class 'set'>\n",
      "{1, 5, 6, 23, 8}\n"
     ]
    }
   ],
   "source": [
    "s1={8,5,23,1,6}\n",
    "print(type(s1))\n",
    "print(s1)"
   ]
  },
  {
   "cell_type": "code",
   "execution_count": 9,
   "id": "5b7f9635-1a78-4136-8b5a-f920a5815f99",
   "metadata": {},
   "outputs": [
    {
     "name": "stdout",
     "output_type": "stream",
     "text": [
      "{33, 2, 6, 11, 44}\n"
     ]
    }
   ],
   "source": [
    "s1={11,44,2,6,33,11}\n",
    "print(s1)"
   ]
  },
  {
   "cell_type": "code",
   "execution_count": 16,
   "id": "1d088d65-cebb-445c-94f1-c200c6b9f2db",
   "metadata": {},
   "outputs": [
    {
     "name": "stdout",
     "output_type": "stream",
     "text": [
      "<class 'set'>\n"
     ]
    }
   ],
   "source": [
    "s1=set()\n",
    "print(type(s1))"
   ]
  },
  {
   "cell_type": "code",
   "execution_count": 17,
   "id": "bc228fa1-5776-42e9-a39f-7f7cbfb5bc04",
   "metadata": {},
   "outputs": [
    {
     "ename": "TypeError",
     "evalue": "set expected at most 1 argument, got 4",
     "output_type": "error",
     "traceback": [
      "\u001b[1;31m---------------------------------------------------------------------------\u001b[0m",
      "\u001b[1;31mTypeError\u001b[0m                                 Traceback (most recent call last)",
      "Cell \u001b[1;32mIn[17], line 1\u001b[0m\n\u001b[1;32m----> 1\u001b[0m s1\u001b[38;5;241m=\u001b[39m\u001b[38;5;28;43mset\u001b[39;49m\u001b[43m(\u001b[49m\u001b[38;5;241;43m11\u001b[39;49m\u001b[43m,\u001b[49m\u001b[38;5;241;43m22\u001b[39;49m\u001b[43m,\u001b[49m\u001b[38;5;241;43m33\u001b[39;49m\u001b[43m,\u001b[49m\u001b[38;5;241;43m44\u001b[39;49m\u001b[43m)\u001b[49m\n\u001b[0;32m      2\u001b[0m \u001b[38;5;28mprint\u001b[39m(s1)\n",
      "\u001b[1;31mTypeError\u001b[0m: set expected at most 1 argument, got 4"
     ]
    }
   ],
   "source": [
    "s1=set(11,22,33,44)\n",
    "print(s1)"
   ]
  },
  {
   "cell_type": "code",
   "execution_count": 18,
   "id": "3b89bef0-49ef-4798-a9ce-b33fd7845885",
   "metadata": {},
   "outputs": [
    {
     "name": "stdout",
     "output_type": "stream",
     "text": [
      "{'i', 'r', 'g', 'm', 's', 'y'}\n"
     ]
    }
   ],
   "source": [
    "s1=set('mysirg')\n",
    "print(s1)"
   ]
  },
  {
   "cell_type": "code",
   "execution_count": 22,
   "id": "9fb7bb21-50e6-46a7-8d1b-6e7bf4155f77",
   "metadata": {},
   "outputs": [
    {
     "name": "stdout",
     "output_type": "stream",
     "text": [
      "33\n",
      "66\n",
      "22\n",
      "55\n",
      "11\n",
      "44\n"
     ]
    }
   ],
   "source": [
    "s1={11,22,33,44,55,66}\n",
    "for i in s1:\n",
    "      print(i)"
   ]
  },
  {
   "cell_type": "markdown",
   "id": "fe6eef97-1c2a-4d73-a998-f1e5c9bf4564",
   "metadata": {},
   "source": [
    "# Build in Method"
   ]
  },
  {
   "cell_type": "code",
   "execution_count": 27,
   "id": "fee0999d-ee37-4cb2-bffe-2871973584a5",
   "metadata": {},
   "outputs": [
    {
     "name": "stdout",
     "output_type": "stream",
     "text": [
      "6\n",
      "66\n",
      "11\n",
      "231\n",
      "[11, 22, 33, 44, 55, 66]\n"
     ]
    }
   ],
   "source": [
    "s1={11,22,33,44,55,66}\n",
    "s2={66,55,44,33,22,11}\n",
    "print(len(s1))\n",
    "print(max(s1))\n",
    "print(min(s1))\n",
    "print(sum(s1))\n",
    "print(sorted(s2))"
   ]
  },
  {
   "cell_type": "markdown",
   "id": "bd27c8b5-70ff-4842-aaa0-8d18eba41fe1",
   "metadata": {},
   "source": [
    "# Concatination Operator"
   ]
  },
  {
   "cell_type": "code",
   "execution_count": 28,
   "id": "5c9cf73d-70f4-473a-80fa-81f8179a2382",
   "metadata": {},
   "outputs": [
    {
     "ename": "TypeError",
     "evalue": "unsupported operand type(s) for +: 'set' and 'set'",
     "output_type": "error",
     "traceback": [
      "\u001b[1;31m---------------------------------------------------------------------------\u001b[0m",
      "\u001b[1;31mTypeError\u001b[0m                                 Traceback (most recent call last)",
      "Cell \u001b[1;32mIn[28], line 3\u001b[0m\n\u001b[0;32m      1\u001b[0m s1\u001b[38;5;241m=\u001b[39m{\u001b[38;5;241m11\u001b[39m,\u001b[38;5;241m22\u001b[39m,\u001b[38;5;241m33\u001b[39m,\u001b[38;5;241m44\u001b[39m,\u001b[38;5;241m55\u001b[39m,\u001b[38;5;241m66\u001b[39m}\n\u001b[0;32m      2\u001b[0m s2\u001b[38;5;241m=\u001b[39m{\u001b[38;5;241m66\u001b[39m,\u001b[38;5;241m55\u001b[39m,\u001b[38;5;241m44\u001b[39m,\u001b[38;5;241m33\u001b[39m,\u001b[38;5;241m22\u001b[39m,\u001b[38;5;241m11\u001b[39m}\n\u001b[1;32m----> 3\u001b[0m s3\u001b[38;5;241m=\u001b[39m\u001b[43ms1\u001b[49m\u001b[38;5;241;43m+\u001b[39;49m\u001b[43ms2\u001b[49m\n\u001b[0;32m      4\u001b[0m \u001b[38;5;28mprint\u001b[39m(s3)\n",
      "\u001b[1;31mTypeError\u001b[0m: unsupported operand type(s) for +: 'set' and 'set'"
     ]
    }
   ],
   "source": [
    "s1={11,22,33,44,55,66}\n",
    "s2={66,55,44,33,22,11}\n",
    "s3=s1+s2\n",
    "print(s3) # not support"
   ]
  },
  {
   "cell_type": "markdown",
   "id": "36bf46c4-9dc3-4d02-ae73-e809ff59c47f",
   "metadata": {},
   "source": [
    "# Repitation operator"
   ]
  },
  {
   "cell_type": "code",
   "execution_count": 29,
   "id": "193e4e71-497d-40ee-b25b-c6838218a852",
   "metadata": {},
   "outputs": [
    {
     "ename": "TypeError",
     "evalue": "unsupported operand type(s) for *: 'set' and 'int'",
     "output_type": "error",
     "traceback": [
      "\u001b[1;31m---------------------------------------------------------------------------\u001b[0m",
      "\u001b[1;31mTypeError\u001b[0m                                 Traceback (most recent call last)",
      "Cell \u001b[1;32mIn[29], line 2\u001b[0m\n\u001b[0;32m      1\u001b[0m s2\u001b[38;5;241m=\u001b[39m{\u001b[38;5;241m66\u001b[39m,\u001b[38;5;241m55\u001b[39m,\u001b[38;5;241m44\u001b[39m,\u001b[38;5;241m33\u001b[39m,\u001b[38;5;241m22\u001b[39m,\u001b[38;5;241m11\u001b[39m}\n\u001b[1;32m----> 2\u001b[0m s3\u001b[38;5;241m=\u001b[39m\u001b[43ms2\u001b[49m\u001b[38;5;241;43m*\u001b[39;49m\u001b[38;5;241;43m3\u001b[39;49m\n\u001b[0;32m      3\u001b[0m \u001b[38;5;28mprint\u001b[39m(s2)\n",
      "\u001b[1;31mTypeError\u001b[0m: unsupported operand type(s) for *: 'set' and 'int'"
     ]
    }
   ],
   "source": [
    "s2={66,55,44,33,22,11}\n",
    "s3=s2*3\n",
    "print(s2)"
   ]
  },
  {
   "cell_type": "markdown",
   "id": "2568d38f-e679-4a2f-a5d7-e77e0f686294",
   "metadata": {},
   "source": [
    "# Comparison operator"
   ]
  },
  {
   "cell_type": "code",
   "execution_count": 35,
   "id": "e4db64c5-71d9-48f6-9f52-f8e4ddf8292a",
   "metadata": {},
   "outputs": [
    {
     "name": "stdout",
     "output_type": "stream",
     "text": [
      "False\n"
     ]
    }
   ],
   "source": [
    "s1={11,22,33,44,55,66}\n",
    "s2={66,55,44,33,45,67}\n",
    "s3=s1==s2\n",
    "print(s3)\n"
   ]
  },
  {
   "cell_type": "code",
   "execution_count": 36,
   "id": "dddf212b-d81a-49ff-a86f-e1b71e5d62d9",
   "metadata": {},
   "outputs": [
    {
     "name": "stdout",
     "output_type": "stream",
     "text": [
      "True\n"
     ]
    }
   ],
   "source": [
    "s1={11,22,33,44,55,66}\n",
    "s2={66,55,44,33,22,11}\n",
    "s3=s1==s2\n",
    "print(s3)"
   ]
  },
  {
   "cell_type": "code",
   "execution_count": 38,
   "id": "edeade17-4f49-4400-898d-7722f12df422",
   "metadata": {},
   "outputs": [
    {
     "name": "stdout",
     "output_type": "stream",
     "text": [
      "False\n",
      "False\n"
     ]
    }
   ],
   "source": [
    "s1={11,22,33,44,55,66}\n",
    "s2={66,55,44,33,22,11}\n",
    "s3=s1>s2\n",
    "s4=s1<s2\n",
    "print(s3)\n",
    "print(s4)"
   ]
  },
  {
   "cell_type": "markdown",
   "id": "b334dbb9-5fee-422e-89fd-8942817f7ef1",
   "metadata": {},
   "source": [
    "# Object Method"
   ]
  },
  {
   "cell_type": "code",
   "execution_count": 39,
   "id": "44735223-4ee7-44b8-99a7-c8e26dbbf4b3",
   "metadata": {},
   "outputs": [
    {
     "name": "stdout",
     "output_type": "stream",
     "text": [
      "{33, 66, 34, 22, 55, 11, 44}\n"
     ]
    }
   ],
   "source": [
    "s1={11,22,33,44,55,66}\n",
    "s1.add(34)\n",
    "print(s1)"
   ]
  },
  {
   "cell_type": "code",
   "execution_count": 41,
   "id": "7e6683f3-a7f6-4118-9285-822ac4c67b71",
   "metadata": {},
   "outputs": [
    {
     "name": "stdout",
     "output_type": "stream",
     "text": [
      "{33, 66, 22, 55, 11, 44, (10, 20, 30)}\n"
     ]
    }
   ],
   "source": [
    "s1={11,22,33,44,55,66}\n",
    "s1.add((10,20,30))\n",
    "print(s1)"
   ]
  },
  {
   "cell_type": "code",
   "execution_count": 43,
   "id": "64804aae-98d8-4c81-baa5-82d25ade05cf",
   "metadata": {},
   "outputs": [
    {
     "name": "stdout",
     "output_type": "stream",
     "text": [
      "{33, 66, 22, 55, 88, 11, 44, 77}\n"
     ]
    }
   ],
   "source": [
    "s1={11,22,33,44,55,66}\n",
    "s1.update((77,88))\n",
    "print(s1)"
   ]
  },
  {
   "cell_type": "code",
   "execution_count": 44,
   "id": "563ba98b-76b5-40f1-84a5-04fc365609ab",
   "metadata": {},
   "outputs": [
    {
     "name": "stdout",
     "output_type": "stream",
     "text": [
      "{66, 22, 55, 11, 44}\n"
     ]
    }
   ],
   "source": [
    "s1={11,22,33,44,55,66}\n",
    "s1.remove(33)\n",
    "print(s1)"
   ]
  },
  {
   "cell_type": "code",
   "execution_count": 58,
   "id": "beea2293-484e-408f-9490-17e451678e4c",
   "metadata": {},
   "outputs": [
    {
     "name": "stdout",
     "output_type": "stream",
     "text": [
      "{33, 66, 22, 55, 11}\n"
     ]
    }
   ],
   "source": [
    "s1={11,22,33,44,55,66}\n",
    "s1.discard(44)\n",
    "print(s1)"
   ]
  },
  {
   "cell_type": "code",
   "execution_count": 59,
   "id": "9794fdfd-4dcb-4bd7-9403-60cdaf03a189",
   "metadata": {},
   "outputs": [
    {
     "name": "stdout",
     "output_type": "stream",
     "text": [
      "33\n"
     ]
    }
   ],
   "source": [
    "s1={11,22,33,44,55,66}\n",
    "s2=s1.pop()\n",
    "print(s2)"
   ]
  },
  {
   "cell_type": "code",
   "execution_count": 47,
   "id": "b9d02a90-2e74-4ce1-8a99-4f723413c11f",
   "metadata": {},
   "outputs": [
    {
     "name": "stdout",
     "output_type": "stream",
     "text": [
      "set()\n"
     ]
    }
   ],
   "source": [
    "s1={11,22,33,44,55,66}\n",
    "s1.clear()\n",
    "print(s1)"
   ]
  },
  {
   "cell_type": "code",
   "execution_count": 55,
   "id": "b3bd9e7b-82ff-4713-8748-55824000c530",
   "metadata": {},
   "outputs": [
    {
     "name": "stdout",
     "output_type": "stream",
     "text": [
      "{22}\n",
      "{33, 66, 1, 3, 4, 5, 6, 11, 44, 22, 55}\n"
     ]
    }
   ],
   "source": [
    "s1={11,22,33,44,55,66}\n",
    "s2={1,22,3,4,5,6}\n",
    "s3=s1.intersection(s2)\n",
    "s4=s1.union(s2)\n",
    "print(s3)\n",
    "print(s4)"
   ]
  },
  {
   "cell_type": "code",
   "execution_count": 60,
   "id": "a17b58c0-17e3-446e-ad56-1bc96eec8f87",
   "metadata": {},
   "outputs": [
    {
     "name": "stdout",
     "output_type": "stream",
     "text": [
      "{22}\n"
     ]
    }
   ],
   "source": [
    "s1={11,22,33,44,55,66}\n",
    "s2={1,22,3,4,5,6}\n",
    "s3=s1.intersection(s2)\n",
    "print(s3)"
   ]
  },
  {
   "cell_type": "code",
   "execution_count": 4,
   "id": "42f74639-62dc-4700-a5f2-a42ba990115b",
   "metadata": {},
   "outputs": [
    {
     "name": "stdout",
     "output_type": "stream",
     "text": [
      "True\n"
     ]
    }
   ],
   "source": [
    "s1={1,5,8,10}\n",
    "s2={9,7,5,3,2,1,8,11,10}\n",
    "s3=s1.issubset(s2)\n",
    "print(s3)"
   ]
  },
  {
   "cell_type": "code",
   "execution_count": 6,
   "id": "f89b725b-82ec-478c-ba76-8b35959e9340",
   "metadata": {},
   "outputs": [
    {
     "name": "stdout",
     "output_type": "stream",
     "text": [
      "True\n"
     ]
    }
   ],
   "source": [
    "s1={1,5,8,10}\n",
    "s2={9,7,5,3,2,1,8,11,10}\n",
    "s3=s2.issuperset(s1)\n",
    "print(s3)\n"
   ]
  }
 ],
 "metadata": {
  "kernelspec": {
   "display_name": "Python 3 (ipykernel)",
   "language": "python",
   "name": "python3"
  },
  "language_info": {
   "codemirror_mode": {
    "name": "ipython",
    "version": 3
   },
   "file_extension": ".py",
   "mimetype": "text/x-python",
   "name": "python",
   "nbconvert_exporter": "python",
   "pygments_lexer": "ipython3",
   "version": "3.12.3"
  }
 },
 "nbformat": 4,
 "nbformat_minor": 5
}
