{
 "cells": [
  {
   "cell_type": "markdown",
   "id": "605a0db7-77a0-40fb-a44e-cfa2ce0029d9",
   "metadata": {},
   "source": [
    "Str (str)"
   ]
  },
  {
   "cell_type": "code",
   "execution_count": null,
   "id": "54239de7-d8c8-432c-8134-2c90cb88d6b7",
   "metadata": {},
   "outputs": [],
   "source": []
  }
 ],
 "metadata": {
  "kernelspec": {
   "display_name": "Python 3 (ipykernel)",
   "language": "python",
   "name": "python3"
  },
  "language_info": {
   "codemirror_mode": {
    "name": "ipython",
    "version": 3
   },
   "file_extension": ".py",
   "mimetype": "text/x-python",
   "name": "python",
   "nbconvert_exporter": "python",
   "pygments_lexer": "ipython3",
   "version": "3.12.3"
  }
 },
 "nbformat": 4,
 "nbformat_minor": 5
}
