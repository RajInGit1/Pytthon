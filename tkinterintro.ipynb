{
 "cells": [
  {
   "cell_type": "code",
   "execution_count": 1,
   "id": "f846f057-28b4-455f-80e8-67007aa8c30c",
   "metadata": {},
   "outputs": [],
   "source": [
    "from tkinter import*"
   ]
  },
  {
   "cell_type": "markdown",
   "id": "fe643ce5-b51a-40ca-acb5-b6d6fdbfb498",
   "metadata": {},
   "source": [
    "# Simple GUI Window screen"
   ]
  },
  {
   "cell_type": "code",
   "execution_count": 2,
   "id": "b1cb9785-91b5-496c-aaae-2d42896c534a",
   "metadata": {},
   "outputs": [],
   "source": [
    "# Simple window screen\n",
    "Window=Tk() # instantiate an instance of a window\n",
    "\n",
    "Window.mainloop() #place window on computer screen,listen for events"
   ]
  },
  {
   "cell_type": "code",
   "execution_count": 3,
   "id": "a59c6423-1938-42d1-9e8c-4cc50d2412d8",
   "metadata": {},
   "outputs": [],
   "source": [
    "# Simple window screen\n",
    "Window=Tk()\n",
    "Window.geometry(\"520x520\") # Define the size of our window\n",
    "Window.title(\"Our First GUI Program\") # Title of window\n",
    "Window.config(bg=\"green\") # 'bg' backgroundcolor decide\n",
    "Window.mainloop()"
   ]
  },
  {
   "cell_type": "markdown",
   "id": "7730cb9f-ed74-4b98-a166-c02d67ffa362",
   "metadata": {},
   "source": [
    "# Label"
   ]
  },
  {
   "cell_type": "code",
   "execution_count": 20,
   "id": "9ee4d4b6-5001-4058-8dc2-b316663f6fad",
   "metadata": {},
   "outputs": [],
   "source": [
    "Window=Tk()\n",
    "label=Label(Window,text=\"Hello World\")\n",
    "label.pack()  \n",
    "Window.mainloop()"
   ]
  },
  {
   "cell_type": "code",
   "execution_count": 21,
   "id": "78575ce8-df71-4c3a-9c32-c9504715263c",
   "metadata": {},
   "outputs": [],
   "source": [
    "Window=Tk()\n",
    "label=Label(Window,text=\"Hello World\")\n",
    "label.place(x=0,y=0) # you can also use place function this is for decide label place you provide 'x' and 'y' axis\n",
    "Window.mainloop()"
   ]
  },
  {
   "cell_type": "code",
   "execution_count": 4,
   "id": "10725223-b76a-41f4-8ac3-e0849dfef33b",
   "metadata": {},
   "outputs": [],
   "source": [
    "Window=Tk()\n",
    "label=Label(Window,text=\"Hello World\",fg=\"blue\") # fg is a text color decide\n",
    "label.pack()  \n",
    "Window.mainloop()"
   ]
  },
  {
   "cell_type": "code",
   "execution_count": 12,
   "id": "dfc80fbc-922e-4b6d-9987-56ea88ab8700",
   "metadata": {},
   "outputs": [],
   "source": [
    "Window=Tk()\n",
    "\n",
    "label=Label(Window,text=\"Hello World\",font=(\"Arial\",40,\"bold\"),fg=\"green\",bg=\"black\")\n",
    "label.pack()\n",
    "Window.mainloop() "
   ]
  },
  {
   "cell_type": "markdown",
   "id": "e68d4f7c-43a8-4dd9-a796-3521560c7019",
   "metadata": {},
   "source": [
    "# Button"
   ]
  },
  {
   "cell_type": "code",
   "execution_count": 4,
   "id": "0b5bacc7-7fe4-4324-ad72-1aaa72d9b619",
   "metadata": {},
   "outputs": [
    {
     "name": "stdout",
     "output_type": "stream",
     "text": [
      "You clicked the button!\n",
      "You clicked the button!\n",
      "You clicked the button!\n"
     ]
    }
   ],
   "source": [
    "def click():\n",
    "    print(\"You clicked the button!\")\n",
    "window=Tk()\n",
    "button=Button(window,text=\"click me!\",command=click,font=(\"Comic Sans\",30),fg=\"red\",bg=\"green\")\n",
    "button.pack()\n",
    "window.mainloop()"
   ]
  },
  {
   "cell_type": "code",
   "execution_count": 18,
   "id": "a5d0c6fc-94d7-41d8-bfb5-6eb4bd18ea81",
   "metadata": {},
   "outputs": [
    {
     "name": "stdout",
     "output_type": "stream",
     "text": [
      "1\n",
      "2\n",
      "3\n",
      "4\n",
      "5\n"
     ]
    }
   ],
   "source": [
    "w=Tk()\n",
    "count=0\n",
    "def click():\n",
    "    global count\n",
    "    count+=1\n",
    "    print(count)\n",
    "button=Button(w,text=\"click\",command=click)\n",
    "button.pack()\n",
    "w.mainloop()"
   ]
  },
  {
   "cell_type": "markdown",
   "id": "f1b980c3-d6aa-4993-857d-b399a1cf605a",
   "metadata": {},
   "source": [
    "# Entry"
   ]
  },
  {
   "cell_type": "code",
   "execution_count": 23,
   "id": "7c7c3195-e4d9-45ee-a920-fd73761afc3d",
   "metadata": {},
   "outputs": [],
   "source": [
    "w=Tk()\n",
    "entry=Entry(w,font=(\"Arial\",50),fg=\"pink\",bg=\"blue\")\n",
    "\n",
    "entry.pack()\n",
    "w.mainloop()"
   ]
  },
  {
   "cell_type": "code",
   "execution_count": 24,
   "id": "b94b9d07-cbeb-407a-a533-46ad45e9073e",
   "metadata": {},
   "outputs": [],
   "source": [
    "def submit():\n",
    "    username = entry.get()\n",
    "    print(\"Hello  \"+username)\n",
    "w=Tk()\n",
    "entry=Entry(w,font=(\"Arial\",50),fg=\"pink\",bg=\"blue\")\n",
    "\n",
    "entry.pack(side=LEFT)\n",
    "\n",
    "submit_button = Button(w,text=\"submit\",command=submit)\n",
    "submit_button.pack(side=RIGHT)\n",
    "w.mainloop()"
   ]
  },
  {
   "cell_type": "code",
   "execution_count": 25,
   "id": "adc60f93-8627-4dd9-81d8-7a0ce5bc9ec5",
   "metadata": {},
   "outputs": [],
   "source": [
    "def submit():\n",
    "    username = entry.get()\n",
    "    print(\"Hello  \"+username)\n",
    "def delete():\n",
    "    entry.delete(0,END)\n",
    "def backspace():\n",
    "    entry.delete(len(entry.get())-1,END)\n",
    "    \n",
    "w=Tk()\n",
    "entry=Entry(w,font=(\"Arial\",50),fg=\"green\",)\n",
    "entry.insert(0,\"balaji\")\n",
    "entry.config(show=\"*\")\n",
    "entry.pack(side=LEFT)\n",
    "\n",
    "submit_button = Button(w,text=\"submit\",command=submit)\n",
    "submit_button.pack(side=RIGHT)\n",
    "\n",
    "delete_button = Button(w,text=\"delete\",command=delete)\n",
    "delete_button.pack(side=RIGHT)\n",
    "\n",
    "backspace_button = Button(w,text=\"backspace\",command=backspace)\n",
    "backspace_button.pack(side=RIGHT)\n",
    "\n",
    "\n",
    "w.mainloop()"
   ]
  },
  {
   "cell_type": "markdown",
   "id": "a0f5cce9-2f03-4c27-b4a1-5687343ef7a9",
   "metadata": {},
   "source": [
    "# CheckBox"
   ]
  },
  {
   "cell_type": "code",
   "execution_count": 6,
   "id": "a062c2dd-9d3f-4a90-80c3-10d20ee2a451",
   "metadata": {},
   "outputs": [],
   "source": [
    "w=Tk()\n",
    "check_button=Checkbutton(w,text=\"like\")\n",
    "check_button.pack()\n",
    "w.mainloop()"
   ]
  },
  {
   "cell_type": "code",
   "execution_count": 6,
   "id": "40cc1bf0-e062-4ff2-9f8e-6f7be13d7bbd",
   "metadata": {},
   "outputs": [],
   "source": [
    "w=Tk()\n",
    "check_button=Checkbutton(w,text=\"like\")\n",
    "check_button.pack()\n",
    "w.mainloop()"
   ]
  },
  {
   "cell_type": "code",
   "execution_count": 23,
   "id": "8486abd7-7a1f-475f-9b42-f2dd9ab8af70",
   "metadata": {},
   "outputs": [
    {
     "name": "stdout",
     "output_type": "stream",
     "text": [
      "You Agree\n",
      "You don't agree(\n",
      "You Agree\n",
      "You don't agree(\n"
     ]
    }
   ],
   "source": [
    "def display():\n",
    "    if(x.get()==1):\n",
    "        print(\"You Agree\")\n",
    "    else:\n",
    "        print(\"You don't agree(\")\n",
    "w=Tk()\n",
    "x=IntVar()\n",
    "check_button=Checkbutton(w,text=\"like\", variable=x ,onvalue=1,\n",
    "                        offvalue=0,command=display,fg=\"blue\",padx=25,pady=10)\n",
    "check_button.pack()\n",
    "w.mainloop()"
   ]
  },
  {
   "cell_type": "markdown",
   "id": "1580333a-aada-440a-a0ff-8a83c9321f1d",
   "metadata": {},
   "source": [
    "# radio button"
   ]
  },
  {
   "cell_type": "code",
   "execution_count": 27,
   "id": "1143d749-2425-4316-bff1-8cfc25d42600",
   "metadata": {},
   "outputs": [],
   "source": [
    "food=[\"pizza\",\"hamburger\",\"hotdog\"]\n",
    "w=Tk()\n",
    "x=IntVar()\n",
    "for index in range(len(food)):\n",
    "    radiobutton = Radiobutton(w,text=food[index],variable=x,value=index)\n",
    "    radiobutton.pack()\n",
    "w.mainloop()"
   ]
  },
  {
   "cell_type": "code",
   "execution_count": 2,
   "id": "2e75f445-caa4-46fe-85e7-d8f1968257b8",
   "metadata": {},
   "outputs": [],
   "source": [
    "food=[\"pizza\",\"hamburger\",\"hotdog\"]\n",
    "w=Tk()\n",
    "x=IntVar()\n",
    "for index in range(len(food)):\n",
    "    radiobutton = Radiobutton(w,text=food[index],variable=x,value=index)\n",
    "    radiobutton.pack()\n",
    "w.mainloop()"
   ]
  },
  {
   "cell_type": "markdown",
   "id": "5d7d22e3-fd1e-434d-8f27-edd963a61440",
   "metadata": {},
   "source": [
    "# Sliding Scale"
   ]
  },
  {
   "cell_type": "code",
   "execution_count": 9,
   "id": "7d7f9e7f-362a-4782-8d92-9dc2b7e3a97b",
   "metadata": {},
   "outputs": [],
   "source": [
    "w=Tk()\n",
    "scale=Scale(w,from_=0,to=100,fg=\"cyan\",bg=\"yellow\")\n",
    "scale.pack()\n",
    "w.mainloop()"
   ]
  },
  {
   "cell_type": "code",
   "execution_count": null,
   "id": "8782efb8-3761-4a38-b83a-27c53849b449",
   "metadata": {},
   "outputs": [
    {
     "name": "stdout",
     "output_type": "stream",
     "text": [
      "The temperature is: 67 degrees C\n"
     ]
    }
   ],
   "source": [
    "def submit():\n",
    "    print(\"The temperature is: \"+ str(scale.get())+ \" degrees C\")\n",
    "    \n",
    "w=Tk()\n",
    "scale=Scale(w,from_=0,to=100,length=600,orient=VERTICAL)\n",
    "scale.pack()\n",
    "button=Button(w,text=\"submit\",command=submit)\n",
    "button.pack()\n",
    "w.mainloop()"
   ]
  },
  {
   "cell_type": "code",
   "execution_count": 6,
   "id": "be62fcea-91c3-4282-8707-2dade5111d54",
   "metadata": {},
   "outputs": [],
   "source": [
    "def submit():\n",
    "    print(\"The temperature is: \"+ str(scale.get())+ \" degrees C\")\n",
    "    \n",
    "w=Tk()\n",
    "scale=Scale(w,from_=0,to=100,length=600,orient=VERTICAL,tickinterval=10)\n",
    "scale.set(50)\n",
    "scale.pack()\n",
    "button=Button(w,text=\"submit\",command=submit)\n",
    "\n",
    "button.pack()\n",
    "w.mainloop()"
   ]
  },
  {
   "cell_type": "code",
   "execution_count": 7,
   "id": "f606ebe8-d0a7-465e-ac2c-f67362a0c8fd",
   "metadata": {},
   "outputs": [],
   "source": [
    "def submit():\n",
    "    print(\"The temperature is: \"+ str(scale.get())+ \" degrees C\")\n",
    "    \n",
    "w=Tk()\n",
    "scale=Scale(w,from_=0,to=100,length=600,orient=VERTICAL,tickinterval=10,fg=\"red\",bg=\"green\")\n",
    "scale.set(50)\n",
    "scale.pack()\n",
    "button=Button(w,text=\"submit\",command=submit)\n",
    "\n",
    "button.pack()\n",
    "w.mainloop()"
   ]
  },
  {
   "cell_type": "markdown",
   "id": "9cf59e19-12f9-47a0-8dbd-09caa8fa2c92",
   "metadata": {},
   "source": [
    "# listbox"
   ]
  },
  {
   "cell_type": "code",
   "execution_count": 14,
   "id": "9bdcaa8d-2326-41c3-80a6-047c63d00007",
   "metadata": {},
   "outputs": [],
   "source": [
    "w=Tk()\n",
    "listbox=Listbox(w)\n",
    "listbox.pack()\n",
    "w.mainloop()"
   ]
  },
  {
   "cell_type": "code",
   "execution_count": null,
   "id": "ee61184e-cad2-4d32-8cc3-ce9b501e3b8a",
   "metadata": {},
   "outputs": [],
   "source": [
    "w=Tk()\n",
    "listbox=Listbox(w)\n",
    "listbox.insert(1,\"pizza\")\n",
    "listbox.insert(2,\"pasta\")\n",
    "listbox.insert(3,\"garlic bread\")\n",
    "listbox.insert(4,\"soup\")\n",
    "listbox.insert(5,\"salad\")\n",
    "listbox.pack()\n",
    "w.mainloop()"
   ]
  },
  {
   "cell_type": "code",
   "execution_count": 22,
   "id": "83cf0557-1e55-4b1c-a822-405d2b22be62",
   "metadata": {},
   "outputs": [],
   "source": [
    "w=Tk()\n",
    "listbox=Listbox(w,fg=\"blue\",bg=\"cyan\")\n",
    "listbox.insert(1,\"pizza\")\n",
    "listbox.insert(2,\"pasta\")\n",
    "listbox.insert(3,\"garlic bread\")\n",
    "listbox.insert(4,\"soup\")\n",
    "listbox.insert(5,\"salad\")\n",
    "listbox.pack()\n",
    "w.mainloop()"
   ]
  },
  {
   "cell_type": "code",
   "execution_count": 31,
   "id": "54e17ce9-1fb7-4453-8b5b-447c745ef192",
   "metadata": {},
   "outputs": [],
   "source": [
    "w=Tk()\n",
    "listbox=Listbox(w,fg=\"blue\",bg=\"cyan\",font=(\"Constantia\",35),width=12)\n",
    "listbox.insert(1,\"pizza\")\n",
    "listbox.insert(2,\"pasta\")\n",
    "listbox.insert(3,\"garlic bread\")\n",
    "listbox.insert(4,\"soup\")\n",
    "listbox.insert(5,\"salad\")\n",
    "listbox.pack()\n",
    "listbox.config(height=listbox.size())\n",
    "\n",
    "w.mainloop()"
   ]
  },
  {
   "cell_type": "code",
   "execution_count": 2,
   "id": "c74a2073-55b5-4bd2-862b-904c8184f46b",
   "metadata": {},
   "outputs": [
    {
     "name": "stdout",
     "output_type": "stream",
     "text": [
      "the selected dish is :  salad\n",
      "the selected dish is :  soup\n",
      "the selected dish is :  garlic bread\n",
      "the selected dish is :  pasta\n",
      "the selected dish is :  pizza\n"
     ]
    }
   ],
   "source": [
    "def submit():\n",
    "    print(\"the selected dish is : \",listbox.get(listbox.curselection()))\n",
    "w=Tk()\n",
    "listbox=Listbox(w,fg=\"blue\",bg=\"cyan\",font=(\"Constantia\",35),width=12)\n",
    "listbox.insert(1,\"pizza\")\n",
    "listbox.insert(2,\"pasta\")\n",
    "listbox.insert(3,\"garlic bread\")\n",
    "listbox.insert(4,\"soup\")\n",
    "listbox.insert(5,\"salad\")\n",
    "listbox.pack()\n",
    "listbox.config(height=listbox.size())\n",
    "submitButton=Button(w,text=\"submit\",command=submit)\n",
    "submitButton.pack()\n",
    "w.mainloop()"
   ]
  },
  {
   "cell_type": "code",
   "execution_count": 8,
   "id": "1d5c9eea-a505-4e1d-b2fa-5bf1ff283a9e",
   "metadata": {},
   "outputs": [
    {
     "name": "stdout",
     "output_type": "stream",
     "text": [
      "the selected dish is :  soda\n",
      "the selected dish is :  juice\n"
     ]
    }
   ],
   "source": [
    "def submit():\n",
    "    print(\"the selected dish is : \",listbox.get(listbox.curselection()))\n",
    "def add():\n",
    "    listbox.insert(listbox.size(),entryBox.get())\n",
    "    listbox.config(height=listbox.size())\n",
    "    \n",
    "w=Tk()\n",
    "listbox=Listbox(w,fg=\"blue\",bg=\"cyan\",font=(\"Constantia\",35),width=12)\n",
    "listbox.insert(1,\"pizza\")\n",
    "listbox.insert(2,\"pasta\")\n",
    "listbox.insert(3,\"garlic bread\")\n",
    "listbox.insert(4,\"soup\")\n",
    "listbox.insert(5,\"salad\")\n",
    "listbox.pack()\n",
    "listbox.config(height=listbox.size())\n",
    "entryBox = Entry(w)\n",
    "entryBox.pack()\n",
    "submitButton=Button(w,text=\"submit\",command=submit)\n",
    "submitButton.pack()\n",
    "addButton=Button(w,text=\"add\",command=add)\n",
    "addButton.pack()\n",
    "w.mainloop()"
   ]
  },
  {
   "cell_type": "code",
   "execution_count": 9,
   "id": "4466a096-41a8-459e-b5dd-7c77c5663131",
   "metadata": {},
   "outputs": [],
   "source": [
    "def submit():\n",
    "    print(\"the selected dish is : \",listbox.get(listbox.curselection()))\n",
    "def add():\n",
    "    listbox.insert(listbox.size(),entryBox.get())\n",
    "    listbox.config(height=listbox.size())\n",
    "def delete():\n",
    "    listbox.delete(listbox.curselection())\n",
    "    listbox.config(height=listbox.size())\n",
    "w=Tk()\n",
    "listbox=Listbox(w,fg=\"blue\",bg=\"cyan\",font=(\"Constantia\",35),width=12)\n",
    "listbox.insert(1,\"pizza\")\n",
    "listbox.insert(2,\"pasta\")\n",
    "listbox.insert(3,\"garlic bread\")\n",
    "listbox.insert(4,\"soup\")\n",
    "listbox.insert(5,\"salad\")\n",
    "listbox.pack()\n",
    "listbox.config(height=listbox.size())\n",
    "entryBox = Entry(w)\n",
    "entryBox.pack()\n",
    "submitButton=Button(w,text=\"submit\",command=submit)\n",
    "submitButton.pack()\n",
    "addButton=Button(w,text=\"add\",command=add)\n",
    "addButton.pack()\n",
    "deleteButton=Button(w,text=\"delete\",command=delete)\n",
    "deleteButton.pack()\n",
    "w.mainloop()"
   ]
  },
  {
   "cell_type": "code",
   "execution_count": 23,
   "id": "599f84e2-fa5d-4be7-8949-e085b62a9e90",
   "metadata": {},
   "outputs": [],
   "source": [
    "def submit():\n",
    "    food=[]\n",
    "    for index in listbox.curselection():\n",
    "        food.insert(index,listbox.get(index))\n",
    "    print(\"You have ordered\")\n",
    "    for index in food:\n",
    "        print(index)\n",
    "def add():\n",
    "    listbox.insert(listbox.size(),entryBox.get())\n",
    "    listbox.config(height=listbox.size())\n",
    "def delete():\n",
    "    listbox.delete(listbox.curselection())\n",
    "    listbox.config(height=listbox.size())\n",
    "w=Tk()\n",
    "listbox=Listbox(w,fg=\"blue\",bg=\"#9cafe2\",font=(\"Constantia\",35),width=12)\n",
    "listbox.insert(1,\"pizza\")\n",
    "listbox.insert(2,\"pasta\")\n",
    "listbox.insert(3,\"garlic bread\")\n",
    "listbox.insert(4,\"soup\")\n",
    "listbox.insert(5,\"salad\")\n",
    "listbox.pack()\n",
    "listbox.config(height=listbox.size())\n",
    "entryBox = Entry(w)\n",
    "entryBox.pack()\n",
    "submitButton=Button(w,text=\"submit\",command=submit)\n",
    "submitButton.pack()\n",
    "addButton=Button(w,text=\"add\",command=add)\n",
    "addButton.pack()\n",
    "deleteButton=Button(w,text=\"delete\",command=delete)\n",
    "deleteButton.pack()\n",
    "w.mainloop()\n",
    "#not working"
   ]
  },
  {
   "cell_type": "markdown",
   "id": "38ff94f4-d109-4eee-b8f8-2ed2108b5fdb",
   "metadata": {},
   "source": [
    "# MessageBox"
   ]
  },
  {
   "cell_type": "code",
   "execution_count": 35,
   "id": "bce20dc5-d8c6-4da8-a798-8b533be96942",
   "metadata": {},
   "outputs": [],
   "source": [
    "from tkinter import*\n",
    "from tkinter import messagebox\n",
    "def click():\n",
    "    messagebox.showinfo()\n",
    "w=Tk()\n",
    "\n",
    "button=Button(w,command=click,text=\"click\")\n",
    "button.pack()\n",
    "\n",
    "\n",
    "\n",
    "w.mainloop()"
   ]
  },
  {
   "cell_type": "code",
   "execution_count": 2,
   "id": "3c5a964f-78cf-454f-9d3a-d8dd0099e548",
   "metadata": {},
   "outputs": [],
   "source": [
    "from tkinter import*\n",
    "from tkinter import messagebox\n",
    "def click():\n",
    "    messagebox.showinfo(title=\"This is an info msg box\")\n",
    "w=Tk()\n",
    "\n",
    "button=Button(w,command=click,text=\"click\")\n",
    "button.pack()\n",
    "\n",
    "\n",
    "\n",
    "w.mainloop()"
   ]
  },
  {
   "cell_type": "code",
   "execution_count": null,
   "id": "75f4c185-12c0-477a-9e9e-bf4331903e9e",
   "metadata": {},
   "outputs": [],
   "source": [
    "from tkinter import*\n",
    "from tkinter import messagebox\n",
    "def click():\n",
    "    messagebox.showinfo(message=\"This is msgbox demo\")\n",
    "w=Tk()\n",
    "\n",
    "button=Button(w,command=click,text=\"click\")\n",
    "button.pack()\n",
    "\n",
    "\n",
    "\n",
    "w.mainloop()"
   ]
  },
  {
   "cell_type": "code",
   "execution_count": 4,
   "id": "a9431c9b-5941-4aef-8bc8-b2a40fea9db5",
   "metadata": {},
   "outputs": [],
   "source": [
    "from tkinter import*\n",
    "from tkinter import messagebox\n",
    "def click():\n",
    "    messagebox.showwarning(title=\"WARNING\",message=\"You have a virus\")\n",
    "w=Tk()\n",
    "\n",
    "button=Button(w,command=click,text=\"click\")\n",
    "button.pack()\n",
    "\n",
    "\n",
    "\n",
    "w.mainloop()"
   ]
  },
  {
   "cell_type": "code",
   "execution_count": 6,
   "id": "ca17a09e-07cf-49e4-81c1-6d8363f17799",
   "metadata": {},
   "outputs": [],
   "source": [
    "from tkinter import*\n",
    "from tkinter import messagebox\n",
    "def click():\n",
    "    messagebox.showerror(title=\"ERROR\",message=\"something went wrong\")\n",
    "w=Tk()\n",
    "\n",
    "button=Button(w,command=click,text=\"click\")\n",
    "button.pack()\n",
    "\n",
    "\n",
    "\n",
    "w.mainloop()"
   ]
  },
  {
   "cell_type": "code",
   "execution_count": 8,
   "id": "ea0f4eea-3985-4723-8452-682cdcaa0ea2",
   "metadata": {},
   "outputs": [
    {
     "name": "stdout",
     "output_type": "stream",
     "text": [
      "You did a thing!\n",
      "You canceled a thing! :\n"
     ]
    }
   ],
   "source": [
    "from tkinter import*\n",
    "from tkinter import messagebox\n",
    "def click():\n",
    "    if messagebox.askokcancel(title=\"ask ok cancel\",message=\"Do you want to do this things\"):\n",
    "        print(\"You did a thing!\")\n",
    "    else:\n",
    "        print(\"You canceled a thing! :\")\n",
    "w=Tk()\n",
    "\n",
    "button=Button(w,command=click,text=\"click\")\n",
    "button.pack()\n",
    "\n",
    "\n",
    "\n",
    "w.mainloop()"
   ]
  },
  {
   "cell_type": "code",
   "execution_count": 9,
   "id": "42ecfbdb-7cf0-4786-a77c-dab47ff59f97",
   "metadata": {},
   "outputs": [
    {
     "name": "stdout",
     "output_type": "stream",
     "text": [
      "You retried a thing!\n",
      "You canceled a thing! :\n"
     ]
    }
   ],
   "source": [
    "from tkinter import*\n",
    "from tkinter import messagebox\n",
    "def click():\n",
    "    if messagebox.askretrycancel(title=\"ask ok cancel\",message=\"Do you want retry the this things\"):\n",
    "        print(\"You retried a thing!\")\n",
    "    else:\n",
    "        print(\"You canceled a thing! :\")\n",
    "w=Tk()\n",
    "\n",
    "button=Button(w,command=click,text=\"click\")\n",
    "button.pack()\n",
    "\n",
    "\n",
    "\n",
    "w.mainloop()"
   ]
  },
  {
   "cell_type": "code",
   "execution_count": 10,
   "id": "31a0239d-3746-4b14-8076-18d8e5aad9e2",
   "metadata": {},
   "outputs": [
    {
     "name": "stdout",
     "output_type": "stream",
     "text": [
      "Why do you like cake ?\n",
      "I like cake too :\n"
     ]
    }
   ],
   "source": [
    "from tkinter import*\n",
    "from tkinter import messagebox\n",
    "def click():\n",
    "    if messagebox.askyesno(title=\"ask yes or no \",message=\"Do you like cake\"):\n",
    "        print(\"I like cake too :\")\n",
    "    else:\n",
    "        print(\"Why do you like cake ?\")\n",
    "w=Tk()\n",
    "\n",
    "button=Button(w,command=click,text=\"click\")\n",
    "button.pack()\n",
    "\n",
    "\n",
    "\n",
    "w.mainloop()"
   ]
  },
  {
   "cell_type": "code",
   "execution_count": 12,
   "id": "017fc39a-993d-46b3-b71b-2ef9e7dbbf9a",
   "metadata": {},
   "outputs": [
    {
     "name": "stdout",
     "output_type": "stream",
     "text": [
      "why do you not like python\n",
      "i like python too\n"
     ]
    }
   ],
   "source": [
    "from tkinter import*\n",
    "from tkinter import messagebox\n",
    "def click():\n",
    "    answer =  messagebox.askquestion(title=\"ask question \",message=\"Do you like python ?\")\n",
    "    if(answer==\"yes\"):\n",
    "        print(\"i like python too\")\n",
    "    else:\n",
    "        print(\"why do you not like python\")\n",
    "    \n",
    "w=Tk()\n",
    "\n",
    "button=Button(w,command=click,text=\"click\")\n",
    "button.pack()\n",
    "\n",
    "\n",
    "\n",
    "w.mainloop()"
   ]
  },
  {
   "cell_type": "code",
   "execution_count": 15,
   "id": "3a59aeff-22b4-4742-8fed-3ffbe09d2e11",
   "metadata": {},
   "outputs": [
    {
     "name": "stdout",
     "output_type": "stream",
     "text": [
      "You like to code\n"
     ]
    }
   ],
   "source": [
    "from tkinter import*\n",
    "from tkinter import messagebox\n",
    "def click():\n",
    "    answer =  messagebox.askyesnocancel(title=\"Yes no cancel \",message=\"Do you like to code ?\")\n",
    "    if(answer==True):\n",
    "        print(\"You like to code\")\n",
    "    elif(answer==False):\n",
    "        print(\"Then why you watching a video on coding\")\n",
    "    else:\n",
    "        print(\"Ypu have  dodged a question\")\n",
    "    \n",
    "w=Tk()\n",
    "\n",
    "button=Button(w,command=click,text=\"click\")\n",
    "button.pack()\n",
    "\n",
    "\n",
    "\n",
    "w.mainloop()"
   ]
  },
  {
   "cell_type": "markdown",
   "id": "e2b036c1-a0c9-4a91-996d-cf874592c3fe",
   "metadata": {},
   "source": [
    "# Colorchoicer marker"
   ]
  },
  {
   "cell_type": "code",
   "execution_count": 20,
   "id": "dfd78fe0-5189-4e94-bfbd-2e0a2b6cc46a",
   "metadata": {},
   "outputs": [],
   "source": [
    "from tkinter import colorchooser\n",
    "def click():\n",
    "    colorchooser.askcolor()\n",
    "w=Tk()\n",
    "w.geometry(\"420x420\")\n",
    "button=Button(text=\"Click me\",command=click)\n",
    "button.pack()\n",
    "\n",
    "w.mainloop()"
   ]
  },
  {
   "cell_type": "code",
   "execution_count": 30,
   "id": "407047d0-a6c4-40f1-9639-ca4863d4fbc1",
   "metadata": {},
   "outputs": [],
   "source": [
    "from tkinter import colorchooser\n",
    "def click():\n",
    "    color=colorchooser.askcolor()\n",
    "    w.config(bg=color[1])\n",
    "w=Tk()\n",
    "w.geometry(\"420x420\")\n",
    "button=Button(text=\"Click me\",command=click)\n",
    "button.pack()\n",
    "\n",
    "w.mainloop()"
   ]
  },
  {
   "cell_type": "code",
   "execution_count": 32,
   "id": "d45ceb35-f8e0-4195-9fb3-4961cc872000",
   "metadata": {},
   "outputs": [],
   "source": [
    "from tkinter import colorchooser\n",
    "def click():\n",
    "    w.config(bg=colorchooser.askcolor()[1])\n",
    "w=Tk()\n",
    "w.geometry(\"420x420\")\n",
    "button=Button(text=\"Click me\",command=click)\n",
    "button.pack()\n",
    "\n",
    "w.mainloop()"
   ]
  },
  {
   "cell_type": "code",
   "execution_count": 28,
   "id": "807742ac-9765-4fc7-890f-0640a244febb",
   "metadata": {},
   "outputs": [
    {
     "name": "stdout",
     "output_type": "stream",
     "text": [
      "((128, 255, 255), '#80ffff')\n",
      "#80ffff\n",
      "((64, 0, 64), '#400040')\n",
      "#400040\n",
      "((0, 255, 0), '#00ff00')\n",
      "#00ff00\n",
      "((255, 255, 128), '#ffff80')\n",
      "#ffff80\n"
     ]
    }
   ],
   "source": [
    "from tkinter import colorchooser\n",
    "def click():\n",
    "    color=colorchooser.askcolor()\n",
    "    print(color)\n",
    "    colorHex=color[1]\n",
    "    print(colorHex)\n",
    "    w.config(bg=colorHex)\n",
    "w=Tk()\n",
    "w.geometry(\"420x420\")\n",
    "button=Button(text=\"Click me\",command=click)\n",
    "button.pack()\n",
    "\n",
    "w.mainloop()"
   ]
  },
  {
   "cell_type": "code",
   "execution_count": null,
   "id": "87146602-082e-4f6d-b7c2-87a08f864bcb",
   "metadata": {},
   "outputs": [],
   "source": [
    "from tkinter import colorchooser\n",
    "def click():\n",
    "    color=colorchooser.askcolor()\n",
    "    w.config(bg=color[1])\n",
    "w=Tk()\n",
    "w.geometry(\"420x420\")\n",
    "button=Button(text=\"Click me\",command=click)\n",
    "button.pack()\n",
    "\n",
    "w.mainloop()"
   ]
  },
  {
   "cell_type": "markdown",
   "id": "4efc9dc5-ddb5-44df-9ec8-561caad7924d",
   "metadata": {},
   "source": [
    "# Text"
   ]
  },
  {
   "cell_type": "code",
   "execution_count": 7,
   "id": "a5fa3a9b-4d04-417d-bd1d-44e48434c36f",
   "metadata": {},
   "outputs": [],
   "source": [
    "w=Tk()\n",
    "text=Text(w)\n",
    "text.pack()\n",
    "w.mainloop()"
   ]
  },
  {
   "cell_type": "code",
   "execution_count": 8,
   "id": "fd99df8f-9935-40ab-93f6-7fe9f472141a",
   "metadata": {},
   "outputs": [
    {
     "name": "stdout",
     "output_type": "stream",
     "text": [
      "fgdfdg\n",
      "\n",
      "fgdfdg\n",
      "\n"
     ]
    }
   ],
   "source": [
    "def submit():\n",
    "    input = text.get(\"1.0\",END)\n",
    "    print(input)\n",
    "w=Tk()\n",
    "text=Text(w)\n",
    "text.pack()\n",
    "button=Button(w,text=\"submit\",command=submit)\n",
    "button.pack()\n",
    "w.mainloop()"
   ]
  },
  {
   "cell_type": "code",
   "execution_count": 56,
   "id": "ecc5033d-c870-40bc-8f7e-a2fd86c8d616",
   "metadata": {},
   "outputs": [
    {
     "name": "stdout",
     "output_type": "stream",
     "text": [
      "hii python i am your big fan\n",
      "\n"
     ]
    }
   ],
   "source": [
    "def submit():\n",
    "    input = text.get(\"1.0\",END)\n",
    "    print(input)\n",
    "w=Tk()\n",
    "text=Text(w,bg=\"cyan\",font=(\"ink free\",20),height=8,width=20,\n",
    "         padx=20,\n",
    "         pady=20,fg=\"green\")\n",
    "text.pack()\n",
    "button=Button(w,text=\"submit\",command=submit,bg=\"cyan\")\n",
    "button.pack()\n",
    "w.mainloop()"
   ]
  },
  {
   "cell_type": "markdown",
   "id": "e40cdffc-a72d-4dbb-8ea9-d26b47d8f227",
   "metadata": {},
   "source": [
    "# File"
   ]
  },
  {
   "cell_type": "code",
   "execution_count": 57,
   "id": "024cb8a4-dc30-459e-91e7-4e9abb8dcbcd",
   "metadata": {},
   "outputs": [
    {
     "name": "stdout",
     "output_type": "stream",
     "text": [
      "C:/Users/Balaji Jadhav/OneDrive/Pictures/practical5/Screenshot 2024-09-21 192348.png\n"
     ]
    }
   ],
   "source": [
    "from tkinter import filedialog\n",
    "def OpenFile():\n",
    "    filepath=filedialog.askopenfilename()\n",
    "    print(filepath)\n",
    "w=Tk()\n",
    "\n",
    "button=Button(w,text=\"OpenFile\",command=OpenFile)\n",
    "button.pack()\n",
    "w.mainloop()\n"
   ]
  },
  {
   "cell_type": "code",
   "execution_count": 61,
   "id": "5d5116c1-e480-4456-9691-293e3f6f11a3",
   "metadata": {},
   "outputs": [
    {
     "name": "stdout",
     "output_type": "stream",
     "text": [
      "Data Scientist\n",
      " Balaji Jadhav\n"
     ]
    }
   ],
   "source": [
    "from tkinter import filedialog\n",
    "def OpenFile():\n",
    "    filepath=filedialog.askopenfilename()\n",
    "    file=open(filepath,\"r\")\n",
    "    print(file.read())\n",
    "    file.close()\n",
    "    \n",
    "w=Tk()\n",
    "\n",
    "button=Button(w,text=\"OpenFile\",command=OpenFile)\n",
    "button.pack()\n",
    "w.mainloop()\n"
   ]
  },
  {
   "cell_type": "code",
   "execution_count": 17,
   "id": "7d2c7569-35e5-4829-942d-e419c9c267ec",
   "metadata": {},
   "outputs": [],
   "source": [
    "import tkinter as tk\n",
    "\n",
    "# Create the main application window\n",
    "root = tk.Tk()\n",
    "root.title(\"Addition\")\n",
    "\n",
    "# Function to add numbers\n",
    "def add_numbers():\n",
    "    num1 = int(entry1.get())\n",
    "    num2 = int(entry2.get())\n",
    "    result = num1 + num2\n",
    "    result_label.config(text=\"Result: \" + str(result))\n",
    "\n",
    "# Create and place widgets\n",
    "entry1 = tk.Entry(root)\n",
    "entry1.pack()\n",
    "\n",
    "entry2 = tk.Entry(root)\n",
    "entry2.pack()\n",
    "\n",
    "add_button = tk.Button(root, text=\"Add\", command=add_numbers)\n",
    "add_button.pack()\n",
    "\n",
    "result_label = tk.Label(root, text=\"Result: \")\n",
    "result_label.pack()\n",
    "\n",
    "# Run the application\n",
    "root.mainloop()\n"
   ]
  },
  {
   "cell_type": "code",
   "execution_count": 6,
   "id": "a06ad3fe-8824-4f85-9efb-010e55278042",
   "metadata": {},
   "outputs": [],
   "source": [
    "import tkinter as tk\n",
    "\n",
    "# Create the main application window\n",
    "root = tk.Tk()\n",
    "root.title(\"Addition Calculator\")\n",
    "\n",
    "# Function to add two numbers\n",
    "def add_numbers():\n",
    "    try:\n",
    "        a = float(entry_a.get())\n",
    "        b = float(entry_b.get())\n",
    "        result = a + b\n",
    "        result_entry.delete(0, tk.END)\n",
    "        result_entry.insert(0, str(result))\n",
    "    except ValueError:\n",
    "        result_entry.delete(0, tk.END)\n",
    "        result_entry.insert(0, \"Invalid input\")\n",
    "\n",
    "# Labels and entries for a and b\n",
    "label_a = tk.Label(root, text=\"a =\")\n",
    "label_a.grid(row=0, column=0)\n",
    "\n",
    "entry_a = tk.Entry(root)\n",
    "entry_a.grid(row=0, column=1)\n",
    "\n",
    "label_b = tk.Label(root, text=\"b =\")\n",
    "label_b.grid(row=1, column=0)\n",
    "\n",
    "entry_b = tk.Entry(root)\n",
    "entry_b.grid(row=1, column=1)\n",
    "\n",
    "# Label and entry for Result\n",
    "label_result = tk.Label(root, text=\"Result =\")\n",
    "label_result.grid(row=2, column=0)\n",
    "\n",
    "result_entry = tk.Entry(root)\n",
    "result_entry.grid(row=2, column=1)\n",
    "\n",
    "# Button to perform addition\n",
    "add_button = tk.Button(root, text=\"Add\", command=add_numbers)\n",
    "add_button.grid(row=3, column=0, columnspan=2)\n",
    "\n",
    "# Run the application\n",
    "root.mainloop()\n"
   ]
  },
  {
   "cell_type": "code",
   "execution_count": 10,
   "id": "45050389-b351-4e58-b8f6-5ec311bc7118",
   "metadata": {},
   "outputs": [],
   "source": [
    "w=Tk()\n",
    "label=Label(w,text=\"Enter Full Name :\")\n",
    "label.grid(row=0,column=0)\n",
    "entry1=Entry(w)\n",
    "entry1.grid(row=0,column=1)\n",
    "entry2=Entry(w)\n",
    "entry2.grid(row=0,column=2)\n",
    "entry3=Entry(w)\n",
    "entry3.grid(row=0,column=3)\n",
    "w.mainloop()"
   ]
  },
  {
   "cell_type": "markdown",
   "id": "a614bd6f-f712-4557-a3e8-7cdb50c61ffe",
   "metadata": {},
   "source": [
    "# Addition Substraction Multiplication Division"
   ]
  },
  {
   "cell_type": "code",
   "execution_count": 18,
   "id": "83a52ab0-c3d1-4e8a-8df6-aeb139f40530",
   "metadata": {},
   "outputs": [],
   "source": [
    "import tkinter as tk\n",
    "\n",
    "root = tk.Tk()\n",
    "root.title(\"Calculator\")\n",
    "\n",
    "def add_numbers():\n",
    "    a = float(entry_a.get())\n",
    "    b = float(entry_b.get())\n",
    "    result = a + b\n",
    "    result_entry.delete(0, tk.END)  # Clear previous result\n",
    "    result_entry.insert(0, result)\n",
    "\n",
    "def sub():\n",
    "    a = float(entry_a.get())\n",
    "    b = float(entry_b.get())\n",
    "    result = a - b\n",
    "    result_entry.delete(0, tk.END)\n",
    "    result_entry.insert(0, result)\n",
    "\n",
    "def mul():\n",
    "    a = float(entry_a.get())\n",
    "    b = float(entry_b.get())\n",
    "    result = a * b\n",
    "    result_entry.delete(0, tk.END)\n",
    "    result_entry.insert(0, result)\n",
    "\n",
    "def div():\n",
    "    a = float(entry_a.get())\n",
    "    b = float(entry_b.get())\n",
    "    result = a / b\n",
    "    result_entry.delete(0, tk.END)\n",
    "    result_entry.insert(0, result)\n",
    "\n",
    "def clear_display():\n",
    "    entry_a.delete(0, tk.END)\n",
    "    entry_b.delete(0, tk.END)\n",
    "    result_entry.delete(0, tk.END)\n",
    "\n",
    "label_a = tk.Label(root, text=\"a =\")\n",
    "label_a.grid(row=0, column=0)\n",
    "\n",
    "entry_a = tk.Entry(root)\n",
    "entry_a.grid(row=0, column=1)\n",
    "\n",
    "label_b = tk.Label(root, text=\"b =\")\n",
    "label_b.grid(row=1, column=0 ,padx=10,pady=5)\n",
    "\n",
    "entry_b = tk.Entry(root)\n",
    "entry_b.grid(row=1, column=1,padx=10,pady=5)\n",
    "\n",
    "label_result = tk.Label(root, text=\"Result =\")\n",
    "label_result.grid(row=2, column=0,padx=10,pady=5)\n",
    "\n",
    "result_entry = tk.Entry(root)\n",
    "result_entry.grid(row=2, column=1,padx=10,pady=5)\n",
    "\n",
    "add_button = tk.Button(root, text=\"Addition\", command=add_numbers)\n",
    "add_button.grid(row=3, column=0, columnspan=2)\n",
    "\n",
    "sub_button = tk.Button(root, text=\"Subtraction\", command=sub)\n",
    "sub_button.grid(row=4, column=0, columnspan=2)\n",
    "\n",
    "mul_button = tk.Button(root, text=\"Multiply\", command=mul)\n",
    "mul_button.grid(row=5, column=0, columnspan=2)\n",
    "\n",
    "div_button = tk.Button(root, text=\"Division\", command=div)\n",
    "div_button.grid(row=6, column=0, columnspan=2)\n",
    "\n",
    "clear_button = tk.Button(root, text=\"Clear\", command=clear_display)\n",
    "clear_button.grid(row=7, column=0, columnspan=2)\n",
    "\n",
    "root.mainloop()\n"
   ]
  },
  {
   "cell_type": "markdown",
   "id": "d2a65e2e-781a-4beb-a304-9103af651603",
   "metadata": {},
   "source": [
    "# Simple Registeration Form"
   ]
  },
  {
   "cell_type": "code",
   "execution_count": 19,
   "id": "89b39264-fc88-4136-b68f-d726341c3045",
   "metadata": {},
   "outputs": [],
   "source": [
    "from tkinter import*\n",
    "from tkinter import messagebox\n",
    "def submit():\n",
    "    messagebox.showinfo(message=\"Registered Successfully\")\n",
    "w = Tk()\n",
    "w.title(\"Registeration Form\")\n",
    "w.geometry(\"400x400\")\n",
    "\n",
    "label1 = Label(w, text=\"First Name:\")\n",
    "label1.grid(row=0, column=0) \n",
    "\n",
    "entry1 = Entry(w,fg=\"green\")\n",
    "entry1.grid(row=0, column=1)  \n",
    "\n",
    "label2 = Label(w, text=\"Last Name:\")\n",
    "label2.grid(row=1, column=0) \n",
    "\n",
    "entry2 = Entry(w,fg=\"green\")\n",
    "entry2.grid(row=1, column=1)  \n",
    "\n",
    "label3 = Label(w,text=\"EmailID\")\n",
    "label3.grid(row=2,column=0)\n",
    "\n",
    "entry3 = Entry(w,fg=\"green\")\n",
    "entry3.grid(row=2,column = 1)\n",
    "\n",
    "label4 = Label(w,text=\"Phone No.\")\n",
    "label4.grid(row=3,column=0)\n",
    "\n",
    "entry4 = Entry(w)\n",
    "entry4.grid(row=3,column = 1)\n",
    "\n",
    "label4 = Label(w,text=\"Password\")\n",
    "label4.grid(row=4,column=0)\n",
    "\n",
    "entry4 = Entry(w)\n",
    "entry4.grid(row=4,column = 1)\n",
    "\n",
    "label3 = Label(w, text=\"Gender:\")\n",
    "label3.grid(row=5, column=0)\n",
    "\n",
    "genders = [\"Male\", \"Female\"]\n",
    "gender_var = IntVar()  \n",
    "for index, gender in enumerate(genders):\n",
    "    radiobutton = Radiobutton(w, text=gender, variable=gender_var, value=index)\n",
    "    radiobutton.grid(row=5, column=index+1) \n",
    "\n",
    "\n",
    "button = Button(w, text=\"Submit\",command=submit)\n",
    "button.grid(row=6, column=0, columnspan=2)  \n",
    "\n",
    "w.mainloop()\n"
   ]
  },
  {
   "cell_type": "code",
   "execution_count": 7,
   "id": "68d066ce-4c47-4b7f-a0bf-606563d26984",
   "metadata": {},
   "outputs": [],
   "source": [
    "from tkinter import *\n",
    "def on_button_click(value):\n",
    "    current = display.get()\n",
    "    if current == \"ERROR\":\n",
    "        display.set(value)\n",
    "    else:\n",
    "        display.set(current + value)\n",
    "def calculate():\n",
    "    try:\n",
    "        result = eval(display.get())\n",
    "        display.set(result)\n",
    "    except Exception:\n",
    "        display.set(\"ERROR\")\n",
    "def clear_display():\n",
    "    display.set(\"\")\n",
    "w = Tk()\n",
    "w.title(\"Calculator\")\n",
    "display = StringVar()\n",
    "entry = Entry(w, textvariable=display, font=(\"Arial\", 20), bd=8, justify=\"right\")\n",
    "entry.grid(row=0, column=0, columnspan=4)\n",
    "buttons = [\n",
    "    ('7', 1, 0), ('8', 1, 1), ('9', 1, 2), ('/', 1, 3),\n",
    "    ('4', 2, 0), ('5', 2, 1), ('6', 2, 2), ('*', 2, 3),\n",
    "    ('1', 3, 0), ('2', 3, 1), ('3', 3, 2), ('-', 3, 3),\n",
    "    ('0', 4, 0), ('.', 4, 1), ('+', 4, 2),\n",
    "]\n",
    "for (text, row, col) in buttons:\n",
    "    button = Button(w, text=text,command=lambda t=text: on_button_click(t))\n",
    "    button.grid(row=row, column=col, sticky=\"nsew\", padx=5, pady=5)\n",
    "equal_button = Button(w, text=\"=\", command=calculate)\n",
    "equal_button.grid(row=4, column=3, sticky=\"nsew\", padx=5, pady=5)\n",
    "clear_button = Button(w, text=\"C\",command=clear_display)\n",
    "clear_button.grid(row=5, column=0, columnspan=4, sticky=\"nsew\", padx=5, pady=5)\n",
    "for i in range(5):\n",
    "    w.grid_rowconfigure(i, weight=1)\n",
    "    w.grid_columnconfigure(i, weight=1)\n",
    "w.mainloop()"
   ]
  },
  {
   "cell_type": "code",
   "execution_count": 16,
   "id": "7faa72be-7cad-46f5-b9ba-3ed9e79ccddf",
   "metadata": {},
   "outputs": [],
   "source": [
    "import tkinter as tk\n",
    "from tkinter import messagebox\n",
    "import re\n",
    "\n",
    "def validate_form():\n",
    "    # Retrieve input values\n",
    "    name = entry_name.get()\n",
    "    email = entry_email.get()\n",
    "    phone = entry_phone.get()\n",
    "    password = entry_password.get()\n",
    "    \n",
    "    # Basic validations\n",
    "    if not name:\n",
    "        messagebox.showerror(\"Validation Error\", \"Name is required\")\n",
    "        return\n",
    "    if not email or not re.match(r\"[^@]+@[^@]+\\.[^@]+\", email):\n",
    "        messagebox.showerror(\"Validation Error\", \"Enter a valid email address\")\n",
    "        return\n",
    "    if not phone or not phone.isdigit() or len(phone) != 10:\n",
    "        messagebox.showerror(\"Validation Error\", \"Enter a valid 10-digit phone number\")\n",
    "        return\n",
    "    if not password or len(password) < 6:\n",
    "        messagebox.showerror(\"Validation Error\", \"Password must be at least 6 characters\")\n",
    "        return\n",
    "\n",
    "    # If all validations pass\n",
    "    messagebox.showinfo(\"Success\", \"Registration Successful!\")\n",
    "\n",
    "# Create the main window\n",
    "root = tk.Tk()\n",
    "root.title(\"Registration Form\")\n",
    "\n",
    "# Labels and Entry fields\n",
    "label_name = tk.Label(root, text=\"Name:\")\n",
    "label_name.grid(row=0, column=0, padx=10, pady=5)\n",
    "entry_name = tk.Entry(root)\n",
    "entry_name.grid(row=0, column=1, padx=10, pady=5)\n",
    "\n",
    "label_email = tk.Label(root, text=\"Email:\")\n",
    "label_email.grid(row=1, column=0, padx=10, pady=5)\n",
    "entry_email = tk.Entry(root)\n",
    "entry_email.grid(row=1, column=1, padx=10, pady=5)\n",
    "\n",
    "label_phone = tk.Label(root, text=\"Phone:\")\n",
    "label_phone.grid(row=2, column=0, padx=10, pady=5)\n",
    "entry_phone = tk.Entry(root)\n",
    "entry_phone.grid(row=2, column=1, padx=10, pady=5)\n",
    "\n",
    "label_password = tk.Label(root, text=\"Password:\")\n",
    "label_password.grid(row=3, column=0, padx=10, pady=5)\n",
    "entry_password = tk.Entry(root, show=\"*\")\n",
    "entry_password.grid(row=3, column=1, padx=10, pady=5)\n",
    "\n",
    "# Submit Button\n",
    "submit_button = tk.Button(root, text=\"Register\", command=validate_form)\n",
    "submit_button.grid(row=4, column=0, columnspan=2, pady=10)\n",
    "\n",
    "root.mainloop()\n"
   ]
  },
  {
   "cell_type": "code",
   "execution_count": 27,
   "id": "b78a9f85-8444-4448-8d3f-abf177c4376f",
   "metadata": {},
   "outputs": [],
   "source": [
    "import tkinter as tk\n",
    "import random\n",
    "\n",
    "# Initialize the main window\n",
    "root = tk.Tk()\n",
    "root.title(\"Simple Car Game\")\n",
    "root.geometry(\"400x600\")\n",
    "root.resizable(False, False)\n",
    "\n",
    "# Create the canvas\n",
    "canvas = tk.Canvas(root, width=400, height=600, bg=\"lightgray\")\n",
    "canvas.pack()\n",
    "\n",
    "# Variables\n",
    "car_position_x = 200  # Start in the middle\n",
    "car_speed = 20\n",
    "obstacle_speed = 10\n",
    "score = 0\n",
    "\n",
    "# Draw the player's car\n",
    "car = canvas.create_rectangle(car_position_x - 20, 500, car_position_x + 20, 550, fill=\"blue\")\n",
    "\n",
    "# Function to create obstacles\n",
    "def create_obstacle():\n",
    "    x_position = random.randint(20, 380)\n",
    "    obstacle = canvas.create_rectangle(x_position - 20, 0, x_position + 20, 50, fill=\"red\")\n",
    "    return obstacle\n",
    "\n",
    "# Function to move obstacles downwards\n",
    "def move_obstacles():\n",
    "    global score, game_over\n",
    "    for obstacle in obstacles:\n",
    "        canvas.move(obstacle, 0, obstacle_speed)\n",
    "        # Check if obstacle has moved out of the screen\n",
    "        if canvas.coords(obstacle)[1] > 600:\n",
    "            canvas.delete(obstacle)\n",
    "            obstacles.remove(obstacle)\n",
    "            score += 1  # Increase score for each obstacle passed\n",
    "            score_label.config(text=f\"Score: {score}\")\n",
    "\n",
    "# Function to check for collision\n",
    "def check_collision():\n",
    "    global game_over\n",
    "    car_coords = canvas.coords(car)\n",
    "    for obstacle in obstacles:\n",
    "        obstacle_coords = canvas.coords(obstacle)\n",
    "        if (car_coords[2] > obstacle_coords[0] and car_coords[0] < obstacle_coords[2] and\n",
    "                car_coords[3] > obstacle_coords[1] and car_coords[1] < obstacle_coords[3]):\n",
    "            game_over = True\n",
    "            canvas.create_text(200, 300, text=\"Game Over!\", font=(\"Helvetica\", 24), fill=\"red\")\n",
    "            return True\n",
    "    return False\n",
    "\n",
    "# Function to update the game\n",
    "def update_game():\n",
    "    if not game_over:\n",
    "        move_obstacles()\n",
    "        if check_collision() == False:\n",
    "            root.after(50, update_game)  # Repeat game update every 50 ms\n",
    "        else:\n",
    "            reset_game()\n",
    "    else:\n",
    "        reset_game()\n",
    "\n",
    "# Function to move car left or right\n",
    "def move_left(event):\n",
    "    if canvas.coords(car)[0] > 0:\n",
    "        canvas.move(car, -car_speed, 0)\n",
    "\n",
    "def move_right(event):\n",
    "    if canvas.coords(car)[2] < 400:\n",
    "        canvas.move(car, car_speed, 0)\n",
    "\n",
    "# Function to reset the game\n",
    "def reset_game():\n",
    "    global obstacles, score, game_over\n",
    "    obstacles = []\n",
    "    score = 0\n",
    "    score_label.config(text=\"Score: 0\")\n",
    "    canvas.delete(\"all\")\n",
    "    canvas.create_text(200, 300, text=\"Game Over!\", font=(\"Helvetica\", 24), fill=\"red\")\n",
    "    car_position_x\n"
   ]
  },
  {
   "cell_type": "code",
   "execution_count": 29,
   "id": "83ea7e6d-2c01-4f58-8045-1e2cc18d3470",
   "metadata": {},
   "outputs": [],
   "source": [
    "import tkinter as tk\n",
    "import random\n",
    "\n",
    "# Initialize the main window\n",
    "root = tk.Tk()\n",
    "root.title(\"Simple Car Game\")\n",
    "root.geometry(\"400x600\")\n",
    "root.resizable(False, False)\n",
    "\n",
    "# Create the canvas\n",
    "canvas = tk.Canvas(root, width=400, height=600, bg=\"lightgray\")\n",
    "canvas.pack()\n",
    "\n",
    "# Variables\n",
    "car_position_x = 200  # Start in the middle\n",
    "car_speed = 20\n",
    "obstacle_speed = 10\n",
    "score = 0\n",
    "game_over = False\n",
    "obstacles = []\n",
    "\n",
    "# Draw the player's car\n",
    "car = canvas.create_rectangle(car_position_x - 20, 500, car_position_x + 20, 550, fill=\"blue\")\n",
    "\n",
    "# Score display\n",
    "score_label = tk.Label(root, text=f\"Score: {score}\", font=(\"Helvetica\", 14))\n",
    "score_label.pack()\n",
    "\n",
    "# Function to create obstacles\n",
    "def create_obstacle():\n",
    "    x_position = random.randint(20, 380)\n",
    "    obstacle = canvas.create_rectangle(x_position - 20, 0, x_position + 20, 50, fill=\"red\")\n",
    "    obstacles.append(obstacle)\n",
    "\n",
    "# Function to move obstacles downwards\n",
    "def move_obstacles():\n",
    "    global score\n",
    "    for obstacle in obstacles:\n",
    "        canvas.move(obstacle, 0, obstacle_speed)\n",
    "        # Check if obstacle has moved out of the screen\n",
    "        if canvas.coords(obstacle)[1] > 600:\n",
    "            canvas.delete(obstacle)\n",
    "            obstacles.remove(obstacle)\n",
    "            score += 1  # Increase score for each obstacle passed\n",
    "            score_label.config(text=f\"Score: {score}\")\n",
    "\n",
    "# Function to check for collision\n",
    "def check_collision():\n",
    "    global game_over\n",
    "    car_coords = canvas.coords(car)\n",
    "    for obstacle in obstacles:\n",
    "        obstacle_coords = canvas.coords(obstacle)\n",
    "        if (car_coords[2] > obstacle_coords[0] and car_coords[0] < obstacle_coords[2] and\n",
    "                car_coords[3] > obstacle_coords[1] and car_coords[1] < obstacle_coords[3]):\n",
    "            game_over = True\n",
    "            canvas.create_text(200, 300, text=\"Game Over!\", font=(\"Helvetica\", 24), fill=\"red\")\n",
    "            return True\n",
    "    return False\n",
    "\n",
    "# Function to update the game\n",
    "def update_game():\n",
    "    if not game_over:\n",
    "        move_obstacles()\n",
    "        if not check_collision():\n",
    "            root.after(50, update_game)  # Repeat game update every 50 ms\n",
    "    else:\n",
    "        reset_game()\n",
    "\n",
    "# Function to move car left or right\n",
    "def move_left(event):\n",
    "    if canvas.coords(car)[0] > 0:\n",
    "        canvas.move(car, -car_speed, 0)\n",
    "\n",
    "def move_right(event):\n",
    "    if canvas.coords(car)[2] < 400:\n",
    "        canvas.move(car, car_speed, 0)\n",
    "\n",
    "# Function to reset the game\n",
    "def reset_game():\n",
    "    global obstacles, score, game_over\n",
    "    obstacles = []\n",
    "    score = 0\n",
    "    game_over = False\n",
    "    score_label.config(text=\"Score: 0\")\n",
    "    canvas.delete(\"all\")\n",
    "    # Draw the player's car again\n",
    "    global car\n",
    "    car = canvas.create_rectangle(car_position_x - 20, 500, car_position_x + 20, 550, fill=\"blue\")\n",
    "    canvas.create_text(200, 300, text=\"Game Over! Press 'R' to Restart\", font=(\"Helvetica\", 16), fill=\"black\")\n",
    "\n",
    "# Keyboard bindings\n",
    "root.bind(\"<Left>\", move_left)\n",
    "root.bind(\"<Right>\", move_right)\n",
    "root.bind(\"<r>\", lambda e: reset_game())\n",
    "\n",
    "# Add obstacles at intervals\n",
    "def add_obstacle_periodically():\n",
    "    if not game_over:\n",
    "        create_obstacle()\n",
    "        root.after(2000, add_obstacle_periodically)\n",
    "\n",
    "# Start the game\n",
    "update_game()\n",
    "add_obstacle_periodically()\n",
    "root.mainloop()\n"
   ]
  },
  {
   "cell_type": "code",
   "execution_count": null,
   "id": "a87b7d02-34be-49c2-bd0c-8227b6a6b2ab",
   "metadata": {},
   "outputs": [],
   "source": [
    "import tkinter as tk\n",
    "\n",
    "# Create the main window\n",
    "root = tk.Tk()\n",
    "root.title(\"Canvas Demo\")\n",
    "canvas = tk.Canvas(root, width=400, height=400, bg=\"white\")\n",
    "canvas.pack()\n",
    "\n",
    "# Draw a rectangle\n",
    "rect = canvas.create_rectangle(50, 50, 150, 150, fill=\"blue\", outline=\"black\")\n",
    "\n",
    "# Draw a circle\n",
    "circle = canvas.create_oval(200, 50, 300, 150, fill=\"red\", outline=\"black\")\n",
    "\n",
    "# Draw a line\n",
    "line = canvas.create_line(0, 0, 200, 200, fill=\"green\", width=3)\n",
    "\n",
    "# Draw a polygon (triangle)\n",
    "triangle = canvas.create_polygon(50, 200, 150, 300, 100, 250, fill=\"yellow\", outline=\"black\")\n",
    "\n",
    "# Add some text\n",
    "text = canvas.create_text(200, 350, text=\"Hello, Canvas!\", fill=\"purple\", font=(\"Arial\", 16))\n",
    "\n",
    "# Animate the rectangle to move down\n",
    "def animate():\n",
    "    canvas.move(rect, 0, 5)\n",
    "    if canvas.coords(rect)[1] < 400:  # Keep moving until it reaches bottom\n",
    "        root.after(50, animate)\n",
    "\n",
    "animate()  # Start the animation\n",
    "\n",
    "root.mainloop()\n"
   ]
  }
 ],
 "metadata": {
  "kernelspec": {
   "display_name": "Python 3 (ipykernel)",
   "language": "python",
   "name": "python3"
  },
  "language_info": {
   "codemirror_mode": {
    "name": "ipython",
    "version": 3
   },
   "file_extension": ".py",
   "mimetype": "text/x-python",
   "name": "python",
   "nbconvert_exporter": "python",
   "pygments_lexer": "ipython3",
   "version": "3.12.3"
  }
 },
 "nbformat": 4,
 "nbformat_minor": 5
}
