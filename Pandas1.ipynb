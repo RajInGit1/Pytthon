{
 "cells": [
  {
   "cell_type": "markdown",
   "id": "87604f21-b3f8-4604-a002-8e3ef36bee31",
   "metadata": {},
   "source": [
    "# Series in Pandas"
   ]
  },
  {
   "cell_type": "code",
   "execution_count": 2,
   "id": "dd115983-a2df-480f-b8db-ee6fb028466b",
   "metadata": {},
   "outputs": [],
   "source": [
    "import pandas as pd"
   ]
  },
  {
   "cell_type": "code",
   "execution_count": 12,
   "id": "9761c8c2-0569-4cea-ad2a-faed93b3fd8d",
   "metadata": {},
   "outputs": [
    {
     "name": "stdout",
     "output_type": "stream",
     "text": [
      "Series([], dtype: object)\n"
     ]
    }
   ],
   "source": [
    "p=pd.Series()\n",
    "print(p)"
   ]
  },
  {
   "cell_type": "code",
   "execution_count": 10,
   "id": "c7604c39-8509-4ad4-ad02-5bdf795c6abf",
   "metadata": {},
   "outputs": [
    {
     "name": "stdout",
     "output_type": "stream",
     "text": [
      "0    11\n",
      "1    22\n",
      "2    33\n",
      "3    44\n",
      "4    55\n",
      "5    66\n",
      "dtype: int64\n"
     ]
    }
   ],
   "source": [
    "p=[11,22,33,44,55,66]\n",
    "p1=pd.Series(p)\n",
    "print(p1)"
   ]
  },
  {
   "cell_type": "code",
   "execution_count": 23,
   "id": "52ded283-e29a-4452-97cd-a0bac91d9fee",
   "metadata": {},
   "outputs": [
    {
     "name": "stdout",
     "output_type": "stream",
     "text": [
      "0    1\n",
      "1    2\n",
      "2    3\n",
      "3    4\n",
      "4    5\n",
      "5    6\n",
      "dtype: int64\n"
     ]
    }
   ],
   "source": [
    "p=pd.Series([1,2,3,4,5,6])\n",
    "print(p)"
   ]
  },
  {
   "cell_type": "code",
   "execution_count": 17,
   "id": "a1618c6c-f388-4453-b3b7-812efaa98339",
   "metadata": {},
   "outputs": [
    {
     "name": "stdout",
     "output_type": "stream",
     "text": [
      "a    11.0\n",
      "b    22.0\n",
      "c    33.0\n",
      "d    44.0\n",
      "e    55.0\n",
      "f    66.0\n",
      "Name: data, dtype: float64\n"
     ]
    }
   ],
   "source": [
    "p=[11,22,33,44,55,66]\n",
    "p1=pd.Series(p,name=\"data\",index=['a','b','c','d','e','f'],dtype=\"float\")\n",
    "print(p1)"
   ]
  },
  {
   "cell_type": "code",
   "execution_count": 19,
   "id": "a49f34cd-c354-4b37-9ac4-3038e5b29570",
   "metadata": {},
   "outputs": [
    {
     "name": "stdout",
     "output_type": "stream",
     "text": [
      "name    [python, c, java, r]\n",
      "rank            [1, 2, 3, 4]\n",
      "dtype: object\n"
     ]
    }
   ],
   "source": [
    "p={\"name\":['python','c','java','r'],\"rank\":[1,2,3,4]}\n",
    "p1=pd.Series(p)\n",
    "print(p1)"
   ]
  },
  {
   "cell_type": "code",
   "execution_count": 20,
   "id": "f4525cd2-e7b4-4db6-bc75-46855202e9fc",
   "metadata": {},
   "outputs": [
    {
     "name": "stdout",
     "output_type": "stream",
     "text": [
      "<class 'pandas.core.series.Series'>\n",
      "0    11\n",
      "1    22\n",
      "2    33\n",
      "3    44\n",
      "4    55\n",
      "5    66\n",
      "dtype: int64\n",
      "55\n"
     ]
    }
   ],
   "source": [
    "p=[11,22,33,44,55,66]\n",
    "print(type(p1))\n",
    "p1=pd.Series(p)\n",
    "print(p1)\n",
    "print(p1[4])"
   ]
  },
  {
   "cell_type": "code",
   "execution_count": 21,
   "id": "bcab8274-b902-4f7b-8816-e3d889fb5f23",
   "metadata": {},
   "outputs": [
    {
     "name": "stdout",
     "output_type": "stream",
     "text": [
      "1    12\n",
      "2    12\n",
      "3    12\n",
      "4    12\n",
      "5    12\n",
      "dtype: int64\n"
     ]
    }
   ],
   "source": [
    "p=pd.Series(12,index=[1,2,3,4,5])\n",
    "print(p)"
   ]
  },
  {
   "cell_type": "code",
   "execution_count": 26,
   "id": "e4384b4a-7a26-4945-a765-3d725f1002ee",
   "metadata": {},
   "outputs": [
    {
     "name": "stdout",
     "output_type": "stream",
     "text": [
      "1    24.0\n",
      "2    24.0\n",
      "3    24.0\n",
      "4     NaN\n",
      "5     NaN\n",
      "dtype: float64\n"
     ]
    }
   ],
   "source": [
    "p1=pd.Series(12,index=[1,2,3,4,5])\n",
    "p2=pd.Series(12,index=[1,2,3])\n",
    "print(p1+p2)\n"
   ]
  },
  {
   "cell_type": "markdown",
   "id": "476629ef-9655-4ec5-abb3-102f03c781bb",
   "metadata": {},
   "source": [
    "# DataFrame in Pandas"
   ]
  },
  {
   "cell_type": "code",
   "execution_count": 28,
   "id": "76bcf89d-656b-43e5-a1b4-f011368eeeae",
   "metadata": {},
   "outputs": [
    {
     "name": "stdout",
     "output_type": "stream",
     "text": [
      "    0\n",
      "0  11\n",
      "1  22\n",
      "2  33\n",
      "3  44\n",
      "4  55\n",
      "5  66\n"
     ]
    }
   ],
   "source": [
    "p=[11,22,33,44,55,66]\n",
    "p1=pd.DataFrame(p)\n",
    "print(p1)"
   ]
  },
  {
   "cell_type": "code",
   "execution_count": 29,
   "id": "c89bedf5-c546-4804-9ba3-b440f7611c98",
   "metadata": {},
   "outputs": [
    {
     "name": "stdout",
     "output_type": "stream",
     "text": [
      "    0\n",
      "0  11\n",
      "1  22\n",
      "2  33\n",
      "3  44\n",
      "4  55\n",
      "5  66\n"
     ]
    }
   ],
   "source": [
    "p1=pd.DataFrame([11,22,33,44,55,66])\n",
    "print(p1)"
   ]
  },
  {
   "cell_type": "code",
   "execution_count": 32,
   "id": "99b21488-8649-4c74-950a-e10710c9d656",
   "metadata": {},
   "outputs": [
    {
     "name": "stdout",
     "output_type": "stream",
     "text": [
      "<class 'pandas.core.frame.DataFrame'>\n",
      "   a   b\n",
      "0  1  11\n",
      "1  2  22\n",
      "2  3  33\n",
      "3  4  44\n",
      "4  5  55\n",
      "5  6  66\n"
     ]
    }
   ],
   "source": [
    "p={\"a\":[1,2,3,4,5,6],\"b\":[11,22,33,44,55,66]}\n",
    "p1=pd.DataFrame(p)\n",
    "print(type(p1))\n",
    "print(p1)"
   ]
  },
  {
   "cell_type": "code",
   "execution_count": 33,
   "id": "35807b5e-4a75-46c5-ba50-cf865f46f81e",
   "metadata": {},
   "outputs": [
    {
     "name": "stdout",
     "output_type": "stream",
     "text": [
      "   a   b    c\n",
      "0  1  11  111\n",
      "1  2  22  222\n",
      "2  3  33  333\n",
      "3  4  44  444\n",
      "4  5  55  555\n",
      "5  6  66  666\n",
      "<class 'pandas.core.frame.DataFrame'>\n"
     ]
    }
   ],
   "source": [
    "p={\"a\":[1,2,3,4,5,6],\"b\":[11,22,33,44,55,66],\"c\":[111,222,333,444,555,666]}\n",
    "p1=pd.DataFrame(p)\n",
    "print(p1)\n",
    "print(type(p1))"
   ]
  },
  {
   "cell_type": "code",
   "execution_count": 34,
   "id": "6cd2b7ae-d603-4639-a815-57811fbb137f",
   "metadata": {},
   "outputs": [
    {
     "name": "stdout",
     "output_type": "stream",
     "text": [
      "   a   b    c\n",
      "a  1  11  111\n",
      "b  2  22  222\n",
      "c  3  33  333\n",
      "e  4  44  444\n",
      "f  5  55  555\n",
      "g  6  66  666\n",
      "<class 'pandas.core.frame.DataFrame'>\n"
     ]
    }
   ],
   "source": [
    "p={\"a\":[1,2,3,4,5,6],\"b\":[11,22,33,44,55,66],\"c\":[111,222,333,444,555,666]}\n",
    "p1=pd.DataFrame(p,index=['a','b','c','e','f','g'])\n",
    "print(p1)\n",
    "print(type(p1))"
   ]
  },
  {
   "cell_type": "code",
   "execution_count": 36,
   "id": "84726f37-e67e-48cd-81e8-2609caf3da41",
   "metadata": {},
   "outputs": [
    {
     "name": "stdout",
     "output_type": "stream",
     "text": [
      "<class 'pandas.core.frame.DataFrame'>\n",
      "   a   b\n",
      "0  1  11\n",
      "1  2  22\n",
      "2  3  33\n",
      "3  4  44\n",
      "4  5  55\n",
      "5  6  66\n"
     ]
    }
   ],
   "source": [
    "p1=pd.DataFrame({\"a\":[1,2,3,4,5,6],\"b\":[11,22,33,44,55,66]})\n",
    "print(type(p1))\n",
    "print(p1)"
   ]
  },
  {
   "cell_type": "code",
   "execution_count": 37,
   "id": "97c4ef1a-5a06-482b-856c-af313cf758d4",
   "metadata": {},
   "outputs": [
    {
     "name": "stdout",
     "output_type": "stream",
     "text": [
      "    b\n",
      "0  11\n",
      "1  22\n",
      "2  33\n",
      "3  44\n",
      "4  55\n",
      "5  66\n",
      "<class 'pandas.core.frame.DataFrame'>\n"
     ]
    }
   ],
   "source": [
    "p={\"a\":[1,2,3,4,5,6],\"b\":[11,22,33,44,55,66],\"c\":[111,222,333,444,555,666]}\n",
    "p1=pd.DataFrame(p,columns=[\"b\"])\n",
    "print(p1)\n",
    "print(type(p1))"
   ]
  },
  {
   "cell_type": "code",
   "execution_count": 38,
   "id": "363512dd-dd66-4fd4-abbb-1b59e889e439",
   "metadata": {},
   "outputs": [
    {
     "name": "stdout",
     "output_type": "stream",
     "text": [
      "    b    c\n",
      "0  11  111\n",
      "1  22  222\n",
      "2  33  333\n",
      "3  44  444\n",
      "4  55  555\n",
      "5  66  666\n",
      "<class 'pandas.core.frame.DataFrame'>\n"
     ]
    }
   ],
   "source": [
    "p={\"a\":[1,2,3,4,5,6],\"b\":[11,22,33,44,55,66],\"c\":[111,222,333,444,555,666]}\n",
    "p1=pd.DataFrame(p,columns=[\"b\",\"c\"])\n",
    "print(p1)\n",
    "print(type(p1))"
   ]
  },
  {
   "cell_type": "code",
   "execution_count": 39,
   "id": "a31fcf88-80bc-4475-9ebb-05d1e94723a9",
   "metadata": {},
   "outputs": [
    {
     "name": "stdout",
     "output_type": "stream",
     "text": [
      "    0   1   2   3   4   5\n",
      "0   1   2   3   4   5   6\n",
      "1  11  22  33  44  55  66\n"
     ]
    }
   ],
   "source": [
    "p=[[1,2,3,4,5,6],[11,22,33,44,55,66]]\n",
    "p1=pd.DataFrame(p)\n",
    "print(p1)"
   ]
  },
  {
   "cell_type": "code",
   "execution_count": 42,
   "id": "7eab28f7-fe97-4c9e-b062-b321114c557e",
   "metadata": {},
   "outputs": [
    {
     "name": "stdout",
     "output_type": "stream",
     "text": [
      "   s   r\n",
      "0  1  11\n",
      "1  2  22\n",
      "2  3  33\n",
      "3  4  44\n",
      "4  5  55\n",
      "<class 'pandas.core.frame.DataFrame'>\n"
     ]
    }
   ],
   "source": [
    "p={\"s\":pd.Series([1,2,3,4,5]),\n",
    "   \"r\":pd.Series([11,22,33,44,55])}\n",
    "p1=pd.DataFrame(p)\n",
    "print(p1)\n",
    "print(type(p1))"
   ]
  },
  {
   "cell_type": "markdown",
   "id": "52b8c27f-9fb9-48c8-84b0-51626810e9f3",
   "metadata": {},
   "source": [
    "# Arithmatic Operation"
   ]
  },
  {
   "cell_type": "code",
   "execution_count": 48,
   "id": "0a85e039-019e-4c05-8999-5d88d2b56b8a",
   "metadata": {},
   "outputs": [
    {
     "name": "stdout",
     "output_type": "stream",
     "text": [
      "<class 'pandas.core.frame.DataFrame'>\n",
      "   a   b\n",
      "0  1  11\n",
      "1  2  22\n",
      "2  3  33\n",
      "3  4  44\n",
      "4  5  55\n",
      "5  6  66\n",
      "   a   b   c\n",
      "0  1  11  12\n",
      "1  2  22  24\n",
      "2  3  33  36\n",
      "3  4  44  48\n",
      "4  5  55  60\n",
      "5  6  66  72\n"
     ]
    }
   ],
   "source": [
    "p1=pd.DataFrame({\"a\":[1,2,3,4,5,6],\"b\":[11,22,33,44,55,66],})\n",
    "print(type(p1))\n",
    "print(p1)\n",
    "p1[\"c\"]=p1[\"a\"]+p1[\"b\"]\n",
    "print(p1)"
   ]
  },
  {
   "cell_type": "code",
   "execution_count": 49,
   "id": "02281e44-2a4a-42dc-99e8-b438e6c3851f",
   "metadata": {},
   "outputs": [
    {
     "name": "stdout",
     "output_type": "stream",
     "text": [
      "<class 'pandas.core.frame.DataFrame'>\n",
      "   a   b\n",
      "0  1  11\n",
      "1  2  22\n",
      "2  3  33\n",
      "3  4  44\n",
      "4  5  55\n",
      "5  6  66\n",
      "   a   b   c\n",
      "0  1  11 -10\n",
      "1  2  22 -20\n",
      "2  3  33 -30\n",
      "3  4  44 -40\n",
      "4  5  55 -50\n",
      "5  6  66 -60\n"
     ]
    }
   ],
   "source": [
    "p1=pd.DataFrame({\"a\":[1,2,3,4,5,6],\"b\":[11,22,33,44,55,66],})\n",
    "print(type(p1))\n",
    "print(p1)\n",
    "p1[\"c\"]=p1[\"a\"]-p1[\"b\"]\n",
    "print(p1)"
   ]
  },
  {
   "cell_type": "code",
   "execution_count": 50,
   "id": "7f0ff3c6-0786-4b89-8de7-af37f30e9c27",
   "metadata": {},
   "outputs": [
    {
     "name": "stdout",
     "output_type": "stream",
     "text": [
      "<class 'pandas.core.frame.DataFrame'>\n",
      "   a   b\n",
      "0  1  11\n",
      "1  2  22\n",
      "2  3  33\n",
      "3  4  44\n",
      "4  5  55\n",
      "5  6  66\n",
      "   a   b    c\n",
      "0  1  11   11\n",
      "1  2  22   44\n",
      "2  3  33   99\n",
      "3  4  44  176\n",
      "4  5  55  275\n",
      "5  6  66  396\n"
     ]
    }
   ],
   "source": [
    "p1=pd.DataFrame({\"a\":[1,2,3,4,5,6],\"b\":[11,22,33,44,55,66],})\n",
    "print(type(p1))\n",
    "print(p1)\n",
    "p1[\"c\"]=p1[\"a\"]*p1[\"b\"]\n",
    "print(p1)"
   ]
  },
  {
   "cell_type": "code",
   "execution_count": 51,
   "id": "a814706f-d02e-45aa-abb3-a2d3e06baf5c",
   "metadata": {},
   "outputs": [
    {
     "name": "stdout",
     "output_type": "stream",
     "text": [
      "    a   b\n",
      "0  11  11\n",
      "1  24  22\n",
      "2  56  33\n",
      "3  78  44\n",
      "4  43  55\n",
      "5  15  66\n",
      "    a   b      c      d\n",
      "0  11  11   True  False\n",
      "1  24  22   True  False\n",
      "2  56  33  False   True\n",
      "3  78  44  False   True\n",
      "4  43  55  False   True\n",
      "5  15  66   True   True\n"
     ]
    }
   ],
   "source": [
    "p1=pd.DataFrame({\"a\":[11,24,56,78,43,15],\"b\":[11,22,33,44,55,66],})\n",
    "print(p1)\n",
    "p1[\"c\"]=p1[\"a\"]<=24\n",
    "p1[\"d\"]=p1[\"b\"]>=33\n",
    "print(p1)"
   ]
  },
  {
   "cell_type": "markdown",
   "id": "93bc591a-4d15-406d-bdf2-c47c4a796121",
   "metadata": {},
   "source": [
    "# Insert and Delete"
   ]
  },
  {
   "cell_type": "code",
   "execution_count": 12,
   "id": "7010368a-7774-4084-a2a0-f1476943816f",
   "metadata": {},
   "outputs": [
    {
     "name": "stdout",
     "output_type": "stream",
     "text": [
      "    a  python   b\n",
      "0  11      11  11\n",
      "1  24      24  22\n",
      "2  56      56  33\n",
      "3  78      78  44\n",
      "4  43      43  55\n",
      "5  15      15  66\n"
     ]
    }
   ],
   "source": [
    "p1=pd.DataFrame({\"a\":[11,24,56,78,43,15],\"b\":[11,22,33,44,55,66],})\n",
    "p1.insert(1,\"python\",p1[\"a\"])\n",
    "print(p1)"
   ]
  },
  {
   "cell_type": "code",
   "execution_count": 59,
   "id": "ca0a0520-1878-42e3-9a35-ed65cef7f532",
   "metadata": {},
   "outputs": [
    {
     "name": "stdout",
     "output_type": "stream",
     "text": [
      "    a   b  python\n",
      "0  11  11      11\n",
      "1  24  22      24\n",
      "2  56  33      56\n",
      "3  78  44      78\n",
      "4  43  55      43\n",
      "5  15  66      15\n"
     ]
    }
   ],
   "source": [
    "p1=pd.DataFrame({\"a\":[11,24,56,78,43,15],\"b\":[11,22,33,44,55,66],})\n",
    "p1.insert(2,\"python\",p1[\"a\"])\n",
    "print(p1)"
   ]
  },
  {
   "cell_type": "code",
   "execution_count": 64,
   "id": "f5b0ba50-a3e3-431c-8fa5-915738bca8fd",
   "metadata": {},
   "outputs": [
    {
     "name": "stdout",
     "output_type": "stream",
     "text": [
      "    a   b  python\n",
      "0  11  11    11.0\n",
      "1  24  22    24.0\n",
      "2  56  33    56.0\n",
      "3  78  44     NaN\n",
      "4  43  55     NaN\n",
      "5  15  66     NaN\n"
     ]
    }
   ],
   "source": [
    "p1=pd.DataFrame({\"a\":[11,24,56,78,43,15],\"b\":[11,22,33,44,55,66],})\n",
    "p1.insert(2,\"python\",p1[\"a\"][:3])\n",
    "print(p1)"
   ]
  },
  {
   "cell_type": "code",
   "execution_count": 66,
   "id": "2b774cb9-d8b6-4114-a7de-719c9cfd32b2",
   "metadata": {},
   "outputs": [
    {
     "name": "stdout",
     "output_type": "stream",
     "text": [
      "    a   b  python1\n",
      "0  11  11       11\n",
      "1  24  22       24\n",
      "2  56  33       56\n",
      "3  78  44       78\n",
      "4  43  55       43\n",
      "5  15  66       15\n"
     ]
    }
   ],
   "source": [
    "p=pd.DataFrame({\"a\":[11,24,56,78,43,15],\"b\":[11,22,33,44,55,66],})\n",
    "p[\"python1\"]=p[\"a\"]\n",
    "print(p)"
   ]
  },
  {
   "cell_type": "code",
   "execution_count": 69,
   "id": "3a66ac26-e2d2-4392-aff8-59067266717b",
   "metadata": {},
   "outputs": [
    {
     "name": "stdout",
     "output_type": "stream",
     "text": [
      "0    35\n",
      "1    64\n",
      "2    87\n",
      "3    54\n",
      "4    37\n",
      "5    90\n",
      "Name: marks2, dtype: int64\n"
     ]
    }
   ],
   "source": [
    "p=pd.DataFrame({\"marks1\":[67,87,66,78,43,15],\"marks2\":[35,64,87,54,37,90],\"marks3\":[99,87,68,65,45,38]})\n",
    "p1=p.pop(\"marks2\")\n",
    "print(p1)"
   ]
  },
  {
   "cell_type": "code",
   "execution_count": 14,
   "id": "9bbdd4a3-a541-4d45-97f8-76489db03ec1",
   "metadata": {},
   "outputs": [
    {
     "name": "stdout",
     "output_type": "stream",
     "text": [
      "   marks1  marks3\n",
      "0      67      99\n",
      "1      87      87\n",
      "2      66      68\n",
      "3      78      65\n",
      "4      43      45\n",
      "5      15      38\n"
     ]
    }
   ],
   "source": [
    "p=pd.DataFrame({\"marks1\":[67,87,66,78,43,15],\"marks2\":[35,64,87,54,37,90],\"marks3\":[99,87,68,65,45,38]})\n",
    "p1=p.pop(\"marks2\")\n",
    "print(p)"
   ]
  },
  {
   "cell_type": "code",
   "execution_count": 73,
   "id": "825fe551-dae4-4d4b-9ade-56d53a664d16",
   "metadata": {},
   "outputs": [
    {
     "name": "stdout",
     "output_type": "stream",
     "text": [
      "   marks2  marks3\n",
      "0      35      99\n",
      "1      64      87\n",
      "2      87      68\n",
      "3      54      65\n",
      "4      37      45\n",
      "5      90      38\n"
     ]
    }
   ],
   "source": [
    "p=pd.DataFrame({\"marks1\":[67,87,66,78,43,15],\"marks2\":[35,64,87,54,37,90],\"marks3\":[99,87,68,65,45,38]})\n",
    "del p[\"marks1\"]\n",
    "print(p)"
   ]
  },
  {
   "cell_type": "code",
   "execution_count": null,
   "id": "c8c5bc5b-d1d6-4dbe-bd5b-c8745cc4fc98",
   "metadata": {},
   "outputs": [],
   "source": []
  }
 ],
 "metadata": {
  "kernelspec": {
   "display_name": "Python 3 (ipykernel)",
   "language": "python",
   "name": "python3"
  },
  "language_info": {
   "codemirror_mode": {
    "name": "ipython",
    "version": 3
   },
   "file_extension": ".py",
   "mimetype": "text/x-python",
   "name": "python",
   "nbconvert_exporter": "python",
   "pygments_lexer": "ipython3",
   "version": "3.12.3"
  }
 },
 "nbformat": 4,
 "nbformat_minor": 5
}
