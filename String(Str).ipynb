{
 "cells": [
  {
   "cell_type": "code",
   "execution_count": null,
   "id": "52a726e0-76ed-4f32-8e32-077d56201a04",
   "metadata": {},
   "outputs": [],
   "source": [
    "#str (string)"
   ]
  },
  {
   "cell_type": "code",
   "execution_count": 1,
   "id": "91c7d5dc-7933-451b-b3e0-836a33933888",
   "metadata": {},
   "outputs": [
    {
     "name": "stdout",
     "output_type": "stream",
     "text": [
      "MySirg\n",
      "<class 'str'>\n"
     ]
    }
   ],
   "source": [
    "s1=\"MySirg\"\n",
    "print(s1)\n",
    "print(type(s1))"
   ]
  },
  {
   "cell_type": "code",
   "execution_count": 3,
   "id": "94a67541-9d83-4da8-a3a5-63ae80027c5f",
   "metadata": {},
   "outputs": [
    {
     "name": "stdout",
     "output_type": "stream",
     "text": [
      "yS\n"
     ]
    }
   ],
   "source": [
    "s1=\"MySirg\"\n",
    "print(s1[1:3])"
   ]
  },
  {
   "cell_type": "code",
   "execution_count": 10,
   "id": "5ac1ea6e-480a-4231-b7aa-0fb71e7158ab",
   "metadata": {},
   "outputs": [
    {
     "name": "stdout",
     "output_type": "stream",
     "text": [
      "M\n",
      "y\n",
      "S\n",
      "i\n",
      "r\n",
      "g\n"
     ]
    }
   ],
   "source": [
    "s1=\"MySirg\"\n",
    "for i in s1:\n",
    " print(i)\n",
    "\n"
   ]
  },
  {
   "cell_type": "code",
   "execution_count": null,
   "id": "2f99769f-eee9-4c2e-93be-c666db7ad3ec",
   "metadata": {},
   "outputs": [],
   "source": [
    "#Build in method"
   ]
  },
  {
   "cell_type": "code",
   "execution_count": 22,
   "id": "5ff1f5d6-194a-46b0-b707-11a700bf3fec",
   "metadata": {},
   "outputs": [
    {
     "name": "stdout",
     "output_type": "stream",
     "text": [
      "6\n",
      "g\n",
      "y\n",
      "['g', 'i', 'm', 'r', 's', 'y']\n"
     ]
    }
   ],
   "source": [
    "s1=\"mysirg\"\n",
    "print(len(s1))\n",
    "print(min(s1))\n",
    "print(max(s1))\n",
    "print(sorted(s1))\n"
   ]
  },
  {
   "cell_type": "code",
   "execution_count": 20,
   "id": "fb6a89f1-268f-4f1a-89f3-9f97cb4de8df",
   "metadata": {},
   "outputs": [
    {
     "ename": "TypeError",
     "evalue": "unsupported operand type(s) for +: 'int' and 'str'",
     "output_type": "error",
     "traceback": [
      "\u001b[1;31m---------------------------------------------------------------------------\u001b[0m",
      "\u001b[1;31mTypeError\u001b[0m                                 Traceback (most recent call last)",
      "Cell \u001b[1;32mIn[20], line 2\u001b[0m\n\u001b[0;32m      1\u001b[0m s1\u001b[38;5;241m=\u001b[39m\u001b[38;5;124m\"\u001b[39m\u001b[38;5;124mMySirg\u001b[39m\u001b[38;5;124m\"\u001b[39m\n\u001b[1;32m----> 2\u001b[0m \u001b[38;5;28mprint\u001b[39m(\u001b[38;5;28;43msum\u001b[39;49m\u001b[43m(\u001b[49m\u001b[43ms1\u001b[49m\u001b[43m)\u001b[49m)\n",
      "\u001b[1;31mTypeError\u001b[0m: unsupported operand type(s) for +: 'int' and 'str'"
     ]
    }
   ],
   "source": [
    "s1=\"MySirg\"\n",
    "print(sum(s1))\n"
   ]
  },
  {
   "cell_type": "code",
   "execution_count": 23,
   "id": "429e4824-10f8-4348-8f1a-4e66f6c5080b",
   "metadata": {},
   "outputs": [
    {
     "name": "stdout",
     "output_type": "stream",
     "text": [
      "M\n",
      "y\n",
      "['M', 'S', 'g', 'i', 'r', 'y']\n"
     ]
    }
   ],
   "source": [
    "s1=\"MySirg\"\n",
    "print(min(s1))\n",
    "print(max(s1))\n",
    "print(sorted(s1))\n"
   ]
  },
  {
   "cell_type": "code",
   "execution_count": null,
   "id": "9b539ac9-6cd7-4124-83f9-13fd830ed6d0",
   "metadata": {},
   "outputs": [],
   "source": [
    "# Concatenation Operator"
   ]
  },
  {
   "cell_type": "code",
   "execution_count": 24,
   "id": "dfa697d1-2604-442a-bc03-532516fbd84f",
   "metadata": {},
   "outputs": [
    {
     "name": "stdout",
     "output_type": "stream",
     "text": [
      "abcefg\n"
     ]
    }
   ],
   "source": [
    "s1=\"abc\"\n",
    "s2=\"efg\"\n",
    "s3=s1+s2\n",
    "print(s3)"
   ]
  },
  {
   "cell_type": "code",
   "execution_count": null,
   "id": "d3b3998e-352c-4ddb-b65f-c3b45d4b0154",
   "metadata": {},
   "outputs": [],
   "source": [
    "#Repetation opretor"
   ]
  },
  {
   "cell_type": "code",
   "execution_count": 25,
   "id": "8522d1a7-5460-4218-b1a1-f9812a499306",
   "metadata": {},
   "outputs": [
    {
     "name": "stdout",
     "output_type": "stream",
     "text": [
      "abcabcabc\n"
     ]
    }
   ],
   "source": [
    "s1=\"abc\"\n",
    "s2=s1*3\n",
    "print(s2)"
   ]
  },
  {
   "cell_type": "code",
   "execution_count": null,
   "id": "2e23e183-23bc-4b61-a44b-5670d897b421",
   "metadata": {},
   "outputs": [],
   "source": [
    "#Comparison Operator"
   ]
  },
  {
   "cell_type": "code",
   "execution_count": 33,
   "id": "40bb76c0-b1a1-49bc-9a1e-585d6deca920",
   "metadata": {},
   "outputs": [
    {
     "name": "stdout",
     "output_type": "stream",
     "text": [
      "True\n"
     ]
    }
   ],
   "source": [
    "s1=\"mysirg\"\n",
    "s2=\"balaji\"\n",
    "s3=s1>s2\n",
    "print(s3)"
   ]
  },
  {
   "cell_type": "code",
   "execution_count": 34,
   "id": "79ed7010-148d-4eb7-8fec-356141bccb2a",
   "metadata": {},
   "outputs": [
    {
     "name": "stdout",
     "output_type": "stream",
     "text": [
      "False\n"
     ]
    }
   ],
   "source": [
    "s1=\"mysirg\"\n",
    "s2=\"zalaji\"\n",
    "s3=s1>s2\n",
    "print(s3)"
   ]
  },
  {
   "cell_type": "code",
   "execution_count": 35,
   "id": "62ec0f9b-b124-436c-9691-74e9b7b3935e",
   "metadata": {},
   "outputs": [
    {
     "name": "stdout",
     "output_type": "stream",
     "text": [
      "False\n"
     ]
    }
   ],
   "source": [
    "s1=\"Mysirg\"\n",
    "s2=\"zalaji\"\n",
    "s3=s1>s2\n",
    "print(s3)"
   ]
  },
  {
   "cell_type": "code",
   "execution_count": null,
   "id": "c8c10b84-b407-44c0-ba79-99cb886f1f44",
   "metadata": {},
   "outputs": [],
   "source": [
    "#str Object method"
   ]
  },
  {
   "cell_type": "code",
   "execution_count": 64,
   "id": "9c178b15-0fdf-4997-80d4-e90d700d42e5",
   "metadata": {},
   "outputs": [
    {
     "name": "stdout",
     "output_type": "stream",
     "text": [
      "25\n",
      "3\n",
      "8\n",
      "20\n",
      "True\n",
      "False\n",
      "False\n",
      "True\n",
      "True\n",
      "False\n",
      "MYSIRG EDUCATION SERVICES\n",
      "mysIrg educatIon servIces\n",
      "myshcsfrg educathcsfon servhcsfces\n",
      "mysirg education system\n"
     ]
    }
   ],
   "source": [
    "s1=\"mysirg education services\"\n",
    "print(len(s1))\n",
    "print(s1.count('i'))\n",
    "print(s1.index('d'))\n",
    "print(s1.index('vic'))\n",
    "print(s1.startswith('my'))\n",
    "print(s1.startswith('sir'))\n",
    "print(s1.endswith('my'))\n",
    "print(s1.endswith('services'))\n",
    "print(s1.islower())\n",
    "print(s1.isupper())\n",
    "print(s1.upper())\n",
    "print(s1.replace('i','I'))\n",
    "print(s1.replace('i','hcsf'))\n",
    "print(s1.replace('services','system'))\n"
   ]
  },
  {
   "cell_type": "code",
   "execution_count": 79,
   "id": "3a3e707f-4236-4c28-9b2a-97689845fd99",
   "metadata": {},
   "outputs": [
    {
     "name": "stdout",
     "output_type": "stream",
     "text": [
      "Sum of 10 and 20 is 30\n"
     ]
    }
   ],
   "source": [
    "a=10\n",
    "b=20\n",
    "s1=\"Sum of {} and {} is {}\"\n",
    "s1=s1.format(a,b,a+b)\n",
    "print(s1)"
   ]
  },
  {
   "cell_type": "code",
   "execution_count": null,
   "id": "d7c54a37-79bc-4210-8087-1c5740894ec4",
   "metadata": {},
   "outputs": [],
   "source": [
    "#split\n",
    "#join are Remaining"
   ]
  }
 ],
 "metadata": {
  "kernelspec": {
   "display_name": "Python 3 (ipykernel)",
   "language": "python",
   "name": "python3"
  },
  "language_info": {
   "codemirror_mode": {
    "name": "ipython",
    "version": 3
   },
   "file_extension": ".py",
   "mimetype": "text/x-python",
   "name": "python",
   "nbconvert_exporter": "python",
   "pygments_lexer": "ipython3",
   "version": "3.12.3"
  }
 },
 "nbformat": 4,
 "nbformat_minor": 5
}
