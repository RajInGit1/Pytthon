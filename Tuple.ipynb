{
 "cells": [
  {
   "cell_type": "markdown",
   "id": "1e443eec-43fe-40e3-ab67-381ef27d304c",
   "metadata": {},
   "source": [
    "# Tuple"
   ]
  },
  {
   "cell_type": "code",
   "execution_count": 20,
   "id": "215bb68e-7fae-491d-a057-a47a421ba962",
   "metadata": {},
   "outputs": [
    {
     "name": "stdout",
     "output_type": "stream",
     "text": [
      "(1, 2, 3, 4, 5, 'balaji', 5.7, 6, 7)\n",
      "<class 'tuple'>\n"
     ]
    }
   ],
   "source": [
    "t1=(1,2,3,4,5,'balaji',5.7,6,7)\n",
    "print(t1)\n",
    "print(type(t1))"
   ]
  },
  {
   "cell_type": "code",
   "execution_count": 3,
   "id": "fba3cd93-3f98-4541-bd4e-a4049721006b",
   "metadata": {},
   "outputs": [
    {
     "name": "stdout",
     "output_type": "stream",
     "text": [
      "<class 'tuple'>\n"
     ]
    }
   ],
   "source": [
    "t1=()\n",
    "print(type(t1))"
   ]
  },
  {
   "cell_type": "code",
   "execution_count": 4,
   "id": "fa7bb735-a4af-4948-bbab-271f43dfa2a5",
   "metadata": {},
   "outputs": [
    {
     "name": "stdout",
     "output_type": "stream",
     "text": [
      "<class 'int'>\n"
     ]
    }
   ],
   "source": [
    "t1=(10)\n",
    "print(type(t1))"
   ]
  },
  {
   "cell_type": "code",
   "execution_count": 5,
   "id": "ffc94471-1326-4a2c-aaee-c5c0e7bedc59",
   "metadata": {},
   "outputs": [
    {
     "name": "stdout",
     "output_type": "stream",
     "text": [
      "<class 'tuple'>\n"
     ]
    }
   ],
   "source": [
    "t1=(10,)\n",
    "print(type(t1))"
   ]
  },
  {
   "cell_type": "code",
   "execution_count": 6,
   "id": "cb62067c-4798-4934-b144-02e7a492d0de",
   "metadata": {},
   "outputs": [
    {
     "name": "stdout",
     "output_type": "stream",
     "text": [
      "<class 'tuple'>\n"
     ]
    }
   ],
   "source": [
    "t1=11,22,33,44\n",
    "print(type(t1))"
   ]
  },
  {
   "cell_type": "code",
   "execution_count": 36,
   "id": "ef346351-fc17-450e-84a6-9642713f4cfa",
   "metadata": {},
   "outputs": [
    {
     "name": "stdout",
     "output_type": "stream",
     "text": [
      "(3, 4, 5, 6)\n",
      "(123, 88, 22, 66, 33, 99, 8, 7, 6, 5, 4, 3, 2, 1)\n",
      "(1, 2, 3, 4, 5)\n"
     ]
    }
   ],
   "source": [
    "t1=(1,2,3,4,5,6,7,8,99,33,66,22,88,123)\n",
    "print(t1[2:6])\n",
    "print(t1[::-1])\n",
    "print(t1[0:5])"
   ]
  },
  {
   "cell_type": "code",
   "execution_count": 47,
   "id": "1ec3cce6-24c5-4216-9ab3-4bf8dc3dbbac",
   "metadata": {},
   "outputs": [
    {
     "name": "stdin",
     "output_type": "stream",
     "text": [
      " 7\n"
     ]
    },
    {
     "name": "stdout",
     "output_type": "stream",
     "text": [
      "(7,)\n"
     ]
    }
   ],
   "source": [
    "t1=tuple([int (e) for e in input().split(' , ')])\n",
    "print(t1)"
   ]
  },
  {
   "cell_type": "code",
   "execution_count": 49,
   "id": "90ffe9b9-0409-42eb-9f2c-72c97c32e4cd",
   "metadata": {},
   "outputs": [
    {
     "name": "stdout",
     "output_type": "stream",
     "text": [
      "(1, 3, 5, 7, 9)\n"
     ]
    }
   ],
   "source": [
    "t1=tuple(range(1,10,2))\n",
    "print(t1)"
   ]
  },
  {
   "cell_type": "markdown",
   "id": "da50738a-6031-4945-a885-bec19bc1ee6b",
   "metadata": {},
   "source": [
    "# Build in Method"
   ]
  },
  {
   "cell_type": "code",
   "execution_count": 9,
   "id": "bcb64541-5d08-4c92-9ce4-d2d379961f11",
   "metadata": {},
   "outputs": [
    {
     "name": "stdout",
     "output_type": "stream",
     "text": [
      "1\n",
      "4\n",
      "(4, 5, 6)\n"
     ]
    }
   ],
   "source": [
    "t1=(1,2,3,4,5,6,7)\n",
    "print(t1[0])\n",
    "print(t1[3])\n",
    "print(t1[3:6])\n"
   ]
  },
  {
   "cell_type": "code",
   "execution_count": 12,
   "id": "1c1b4492-ad8a-4576-8b4d-a75dc726a754",
   "metadata": {},
   "outputs": [
    {
     "name": "stdout",
     "output_type": "stream",
     "text": [
      "7\n",
      "1\n",
      "7\n"
     ]
    }
   ],
   "source": [
    "t1=(1,2,3,4,5,6,7)\n",
    "print(max(t1))\n",
    "print(min(t1))\n",
    "print(len(t1))\n"
   ]
  },
  {
   "cell_type": "code",
   "execution_count": 14,
   "id": "09bf4d30-1350-471c-9f05-ce8ff80bb805",
   "metadata": {},
   "outputs": [
    {
     "name": "stdout",
     "output_type": "stream",
     "text": [
      "28\n",
      "[1, 2, 3, 4, 5, 6, 7]\n"
     ]
    }
   ],
   "source": [
    "t1=(7,6,5,4,3,2,1)\n",
    "print(sum(t1))\n",
    "print(sorted(t1))\n"
   ]
  },
  {
   "cell_type": "markdown",
   "id": "a229e2f6-e950-4135-8caa-5c31e587899b",
   "metadata": {},
   "source": [
    "# Concatination operator"
   ]
  },
  {
   "cell_type": "code",
   "execution_count": 17,
   "id": "2fd6a0e6-2385-478f-861a-0e8180a0162d",
   "metadata": {},
   "outputs": [
    {
     "name": "stdout",
     "output_type": "stream",
     "text": [
      "(1, 2, 3, 4, 5, 6, 7, 'r', 4.5, 11, 22, 33)\n"
     ]
    }
   ],
   "source": [
    "t1=(1,2,3,4,5,6,7,'r',4.5)\n",
    "t2=(11,22,33)\n",
    "t3=t1+t2\n",
    "print(t3)"
   ]
  },
  {
   "cell_type": "markdown",
   "id": "79b4d7ef-6295-4e8b-bc1a-fe8e0cf594ae",
   "metadata": {},
   "source": [
    "# Repitation operator"
   ]
  },
  {
   "cell_type": "code",
   "execution_count": 21,
   "id": "c93e73c1-0511-4098-91d8-49b9ab92814b",
   "metadata": {},
   "outputs": [
    {
     "name": "stdout",
     "output_type": "stream",
     "text": [
      "(11, 22, 33, 44, 55, 11, 22, 33, 44, 55, 11, 22, 33, 44, 55, 11, 22, 33, 44, 55)\n"
     ]
    }
   ],
   "source": [
    "t1=(11,22,33,44,55)\n",
    "t2=t1*4\n",
    "print(t2)"
   ]
  },
  {
   "cell_type": "markdown",
   "id": "3c897e4b-4b58-47b4-acfe-a909de8fece1",
   "metadata": {},
   "source": [
    "# Comparison operator"
   ]
  },
  {
   "cell_type": "code",
   "execution_count": 23,
   "id": "c6d2ccdd-1ba9-4644-a56b-3767055b06ca",
   "metadata": {},
   "outputs": [
    {
     "name": "stdout",
     "output_type": "stream",
     "text": [
      "True\n",
      "False\n"
     ]
    }
   ],
   "source": [
    "t1=(11,22,33,44,55)\n",
    "t2=(1,2,3,4,5)\n",
    "t3=t1>t2\n",
    "t4=t1==t2\n",
    "print(t3)\n",
    "print(t4)"
   ]
  },
  {
   "cell_type": "markdown",
   "id": "4cccc54b-e780-4f00-bb2c-ce84641c364b",
   "metadata": {},
   "source": [
    "# Object method"
   ]
  },
  {
   "cell_type": "code",
   "execution_count": 33,
   "id": "6a121a95-fb1c-4bc0-8075-565d2071d0f8",
   "metadata": {},
   "outputs": [
    {
     "name": "stdout",
     "output_type": "stream",
     "text": [
      "4\n",
      "10\n",
      "13\n"
     ]
    }
   ],
   "source": [
    "t1=(1,2,3,4,5,6,7,8,99,33,66,22,88,123)\n",
    "print(t1.index(5))\n",
    "print(t1.index(66))\n",
    "print(t1.index(123))"
   ]
  },
  {
   "cell_type": "code",
   "execution_count": 38,
   "id": "474f9667-0845-4488-8305-d702ea0fd47a",
   "metadata": {},
   "outputs": [
    {
     "name": "stdout",
     "output_type": "stream",
     "text": [
      "3\n"
     ]
    }
   ],
   "source": [
    "t1=(1,2,3,4,5,6,7,8,99,33,99,66,22,99,88,123)\n",
    "print(t1.count(99))"
   ]
  }
 ],
 "metadata": {
  "kernelspec": {
   "display_name": "Python 3 (ipykernel)",
   "language": "python",
   "name": "python3"
  },
  "language_info": {
   "codemirror_mode": {
    "name": "ipython",
    "version": 3
   },
   "file_extension": ".py",
   "mimetype": "text/x-python",
   "name": "python",
   "nbconvert_exporter": "python",
   "pygments_lexer": "ipython3",
   "version": "3.12.3"
  }
 },
 "nbformat": 4,
 "nbformat_minor": 5
}
