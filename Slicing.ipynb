{
 "cells": [
  {
   "cell_type": "markdown",
   "id": "d9df0d69-9a35-48e4-ad1c-610dfbecd3d5",
   "metadata": {},
   "source": [
    "# Slicing Operator"
   ]
  },
  {
   "cell_type": "code",
   "execution_count": 11,
   "id": "598f2b92-8ace-47b8-91e8-e4883fe80a42",
   "metadata": {},
   "outputs": [
    {
     "name": "stdout",
     "output_type": "stream",
     "text": [
      "[11, 22, 33, 44, 55, 66]\n",
      "44\n",
      "[22, 33]\n",
      "[11, 22, 33, 44, 55, 66]\n",
      "[33, 44, 55]\n",
      "[66, 55, 44, 33, 22, 11]\n"
     ]
    }
   ],
   "source": [
    "l1=[11,22,33,44,55,66]\n",
    "print(l1)\n",
    "print(l1[3])\n",
    "print(l1[1:3])\n",
    "print(l1[0:])\n",
    "print(l1[-4:-1])\n",
    "print(l1[::-1])"
   ]
  },
  {
   "cell_type": "code",
   "execution_count": 17,
   "id": "8c636a74-e7ae-4dc0-94a6-0268a1817387",
   "metadata": {},
   "outputs": [
    {
     "name": "stdout",
     "output_type": "stream",
     "text": [
      "balaji\n",
      "ba\n",
      "balaji\n",
      "aj\n",
      "ijalab\n"
     ]
    }
   ],
   "source": [
    "s1=\"balaji\"\n",
    "print(s1)\n",
    "print(s1[0:2])\n",
    "print(s1[0:])\n",
    "print(s1[-3:-1])\n",
    "print(s1[::-1])\n"
   ]
  },
  {
   "cell_type": "code",
   "execution_count": null,
   "id": "9e2f5512-7bd1-4242-a86e-e6423fd45dc6",
   "metadata": {},
   "outputs": [],
   "source": []
  }
 ],
 "metadata": {
  "kernelspec": {
   "display_name": "Python 3 (ipykernel)",
   "language": "python",
   "name": "python3"
  },
  "language_info": {
   "codemirror_mode": {
    "name": "ipython",
    "version": 3
   },
   "file_extension": ".py",
   "mimetype": "text/x-python",
   "name": "python",
   "nbconvert_exporter": "python",
   "pygments_lexer": "ipython3",
   "version": "3.12.3"
  }
 },
 "nbformat": 4,
 "nbformat_minor": 5
}
